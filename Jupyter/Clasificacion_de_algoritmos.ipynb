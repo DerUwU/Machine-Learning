{
  "nbformat": 4,
  "nbformat_minor": 0,
  "metadata": {
    "colab": {
      "name": "Clasificacion_de_algoritmos.ipynb",
      "provenance": [],
      "collapsed_sections": [
        "UZ7OUSvXtaq8",
        "uKd4VM1qxnV8",
        "VBV62KHrxt9C",
        "ad9LjY3Q1G3-",
        "kxeDisSQ1gl8",
        "f2c389ZI10Z1",
        "itIntr_T3TXp"
      ]
    },
    "kernelspec": {
      "name": "python3",
      "display_name": "Python 3"
    },
    "language_info": {
      "name": "python"
    }
  },
  "cells": [
    {
      "cell_type": "code",
      "metadata": {
        "id": "4vC14DR7m4iR"
      },
      "source": [
        "import pandas as pd\n",
        "import numpy as np\n",
        "\n",
        "from sklearn.linear_model import LogisticRegression\n",
        "\n",
        "import matplotlib.pyplot as plt #Para graficar\n",
        "import seaborn as sns           #interfaz de alto nivel para dibujar gráficos estadísticos (basada en matplotlib)\n",
        "from sklearn import datasets\n",
        "from sklearn.model_selection import train_test_split\n",
        "from sklearn.preprocessing import StandardScaler\n",
        "\n",
        "from sklearn.metrics import classification_report,confusion_matrix,accuracy_score,mean_squared_error\n"
      ],
      "execution_count": 62,
      "outputs": []
    },
    {
      "cell_type": "markdown",
      "metadata": {
        "id": "9oFahdodnKqc"
      },
      "source": [
        "#Regresion Logistica\n"
      ]
    },
    {
      "cell_type": "markdown",
      "metadata": {
        "id": "bMv2nGsjnOp9"
      },
      "source": [
        "Proporciona una salida discreta.\n",
        "\n",
        "Ejemplo:\n",
        "  Saber si va a llover o no\n",
        "\n",
        "Regresion Lineal :\n",
        "Proporciona una salida continua\n",
        "  "
      ]
    },
    {
      "cell_type": "code",
      "metadata": {
        "id": "gPV_TYRdnydE"
      },
      "source": [
        "df = pd.read_csv(\"https://raw.githubusercontent.com/2HenryCardenas1/MachineLearning/main/Datasets/data.csv\")\n",
        "df.head()"
      ],
      "execution_count": null,
      "outputs": []
    },
    {
      "cell_type": "code",
      "metadata": {
        "id": "-jL0bObhoUJ3"
      },
      "source": [
        "data = pd.DataFrame(df)"
      ],
      "execution_count": null,
      "outputs": []
    },
    {
      "cell_type": "code",
      "metadata": {
        "id": "XzYLSX3EoccW"
      },
      "source": [
        "df.info()"
      ],
      "execution_count": null,
      "outputs": []
    },
    {
      "cell_type": "code",
      "metadata": {
        "id": "VSTzzyjEo3Wi"
      },
      "source": [
        "df.isna().sum()"
      ],
      "execution_count": null,
      "outputs": []
    },
    {
      "cell_type": "code",
      "metadata": {
        "id": "SzZ8oJmzo4t3"
      },
      "source": [
        "df['Unnamed: 32'] = df['Unnamed: 32'].fillna(0)\n",
        "df"
      ],
      "execution_count": null,
      "outputs": []
    },
    {
      "cell_type": "code",
      "metadata": {
        "id": "T8XcwX7ppGos"
      },
      "source": [
        "df = df.dropna(how='any')\n",
        "df"
      ],
      "execution_count": null,
      "outputs": []
    },
    {
      "cell_type": "code",
      "metadata": {
        "id": "WjX2-EUDpJRc"
      },
      "source": [
        "df.info()"
      ],
      "execution_count": null,
      "outputs": []
    },
    {
      "cell_type": "markdown",
      "metadata": {
        "id": "RrhiBxr5s5Dk"
      },
      "source": [
        "Observamos la cantidad de cancer maligno y benigno"
      ]
    },
    {
      "cell_type": "code",
      "metadata": {
        "colab": {
          "base_uri": "https://localhost:8080/"
        },
        "id": "x3MvpAmvrZYk",
        "outputId": "4c9f53db-98b6-4757-f920-bc6adbb1fb17"
      },
      "source": [
        "maligno = data.query('diagnosis == \"M\"').diagnosis.count()\n",
        "benigno= data.query('diagnosis == \"B\"').diagnosis.count()\n",
        "print(f\"Maligno{maligno}\\n Benigno: {benigno}\")"
      ],
      "execution_count": null,
      "outputs": [
        {
          "output_type": "stream",
          "name": "stdout",
          "text": [
            "Maligno212\n",
            " Benigno: 357\n"
          ]
        }
      ]
    },
    {
      "cell_type": "code",
      "metadata": {
        "colab": {
          "base_uri": "https://localhost:8080/"
        },
        "id": "kMcmkVPspMSM",
        "outputId": "5b3994bc-4a80-4b41-a6b6-5ad99cf26fe7"
      },
      "source": [
        "df['diagnosis'].unique()"
      ],
      "execution_count": null,
      "outputs": [
        {
          "output_type": "execute_result",
          "data": {
            "text/plain": [
              "array(['M', 'B'], dtype=object)"
            ]
          },
          "metadata": {},
          "execution_count": 40
        }
      ]
    },
    {
      "cell_type": "code",
      "metadata": {
        "id": "uk4AGcsnpQZq"
      },
      "source": [
        "values_diagnosis = {'diagnosis':{'M':1,'B':2}}"
      ],
      "execution_count": null,
      "outputs": []
    },
    {
      "cell_type": "code",
      "metadata": {
        "id": "IGNjloF-pRmu"
      },
      "source": [
        "df.replace(values_diagnosis,inplace=True)\n",
        "df"
      ],
      "execution_count": null,
      "outputs": []
    },
    {
      "cell_type": "markdown",
      "metadata": {
        "id": "W-MwSLUxpb6x"
      },
      "source": [
        ".hist() nos realiza un histograma sobre el dato señalado"
      ]
    },
    {
      "cell_type": "code",
      "metadata": {
        "id": "VJnhEJIwpXIB"
      },
      "source": [
        "df['radius_mean'].hist()"
      ],
      "execution_count": null,
      "outputs": []
    },
    {
      "cell_type": "markdown",
      "metadata": {
        "id": "0lVWCJ16ppjI"
      },
      "source": [
        "##Regresion logistica"
      ]
    },
    {
      "cell_type": "code",
      "metadata": {
        "colab": {
          "base_uri": "https://localhost:8080/",
          "height": 295
        },
        "id": "yxgv2BiJqyRg",
        "outputId": "0e85c893-ab76-49ee-df09-e92deb20ee80"
      },
      "source": [
        "plt.scatter(x=data['area_mean'],y=data['diagnosis'])\n",
        "plt.title('area_mean vs diagnosis')\n",
        "plt.xlabel('area_mean')\n",
        "plt.ylabel('diagnosis')\n",
        "plt.show()"
      ],
      "execution_count": null,
      "outputs": [
        {
          "output_type": "display_data",
          "data": {
            "image/png": "[encoded data removed]",
            "text/plain": [
              "<Figure size 432x288 with 1 Axes>"
            ]
          },
          "metadata": {
            "needs_background": "light"
          }
        }
      ]
    },
    {
      "cell_type": "code",
      "metadata": {
        "colab": {
          "base_uri": "https://localhost:8080/",
          "height": 383
        },
        "id": "Hk5sv6cppi4y",
        "outputId": "293f6dda-df5d-40ef-ba49-796fab922a5e"
      },
      "source": [
        "g = sns.catplot(y=\"diagnosis\",data=data,kind=\"count\")"
      ],
      "execution_count": null,
      "outputs": [
        {
          "output_type": "display_data",
          "data": {
            "image/png": "[encoded data removed]",
            "text/plain": [
              "<Figure size 360x360 with 1 Axes>"
            ]
          },
          "metadata": {
            "needs_background": "light"
          }
        }
      ]
    },
    {
      "cell_type": "markdown",
      "metadata": {
        "id": "UZ7OUSvXtaq8"
      },
      "source": [
        "##Entrenamiento para regresion logistica"
      ]
    },
    {
      "cell_type": "code",
      "metadata": {
        "id": "4CokxnM2tdpb"
      },
      "source": [
        "#Separamos los datos\n",
        "x = data.drop(columns='diagnosis')#Borramos la bariable diagnosis del conjunto de datos\n",
        "y = data['diagnosis']"
      ],
      "execution_count": 78,
      "outputs": []
    },
    {
      "cell_type": "code",
      "metadata": {
        "id": "etHnhloStqxr"
      },
      "source": [
        "#Inicializamos los valores para el entrenamiento y para las pruebas\n",
        "x_train, x_test, y_train, y_test = train_test_split(x,y, test_size=0.2, random_state=42)"
      ],
      "execution_count": 79,
      "outputs": []
    },
    {
      "cell_type": "markdown",
      "metadata": {
        "id": "fmm7GYNuumFA"
      },
      "source": [
        "Indicando que vamos a entrenarlo con regresion logistica"
      ]
    },
    {
      "cell_type": "code",
      "metadata": {
        "colab": {
          "base_uri": "https://localhost:8080/"
        },
        "id": "aX-B6F16uS3o",
        "outputId": "e4d55e69-a2eb-484c-de1c-28b988fe2780"
      },
      "source": [
        "model = LogisticRegression()\n",
        "model.fit(x_train,y_train)"
      ],
      "execution_count": 80,
      "outputs": [
        {
          "output_type": "execute_result",
          "data": {
            "text/plain": [
              "LogisticRegression(C=1.0, class_weight=None, dual=False, fit_intercept=True,\n",
              "                   intercept_scaling=1, l1_ratio=None, max_iter=100,\n",
              "                   multi_class='auto', n_jobs=None, penalty='l2',\n",
              "                   random_state=None, solver='lbfgs', tol=0.0001, verbose=0,\n",
              "                   warm_start=False)"
            ]
          },
          "metadata": {},
          "execution_count": 80
        }
      ]
    },
    {
      "cell_type": "markdown",
      "metadata": {
        "id": "uKd4VM1qxnV8"
      },
      "source": [
        "###Predicciones"
      ]
    },
    {
      "cell_type": "code",
      "metadata": {
        "id": "URNdtFN_vHbw"
      },
      "source": [
        "y_predict = model.predict(x_test)"
      ],
      "execution_count": 81,
      "outputs": []
    },
    {
      "cell_type": "code",
      "metadata": {
        "colab": {
          "base_uri": "https://localhost:8080/"
        },
        "id": "IkW-daz8vYfH",
        "outputId": "fa4a537e-a6e3-4cb9-f12d-51cebd4a7b2f"
      },
      "source": [
        "model.score(x_test, y_test)"
      ],
      "execution_count": 82,
      "outputs": [
        {
          "output_type": "execute_result",
          "data": {
            "text/plain": [
              "0.6228070175438597"
            ]
          },
          "metadata": {},
          "execution_count": 82
        }
      ]
    },
    {
      "cell_type": "markdown",
      "metadata": {
        "id": "VBV62KHrxt9C"
      },
      "source": [
        "###Matriz de confucion\n"
      ]
    },
    {
      "cell_type": "code",
      "metadata": {
        "colab": {
          "base_uri": "https://localhost:8080/",
          "height": 317
        },
        "id": "K4IxY7MWxzhL",
        "outputId": "abbd0820-7dd5-46ea-e660-b1e019d3974f"
      },
      "source": [
        "#Métricas para comprobar\n",
        "from sklearn.metrics import confusion_matrix \n",
        "import numpy as np\n",
        "cm=confusion_matrix(y_test,y_predict)\n",
        "print(cm)\n",
        "import seaborn as sns\n",
        "group_names = ['True Neg','False Pos','False Neg','True Pos']\n",
        "group_counts = [\"{0:0.0f}\".format(value) for value in cm.flatten()]\n",
        "group_percentages = [\"{0:.2%}\".format(value) for value in cm.flatten()/np.sum(cm)]\n",
        "labels = [f\"{v1}\\n{v2}\\n{v3}\" for v1, v2, v3 in zip(group_names,group_counts,group_percentages)]\n",
        "labels = np.asarray(labels).reshape(2,2)\n",
        "sns.heatmap(cm, annot=labels, fmt='', cmap='Blues')\n"
      ],
      "execution_count": 83,
      "outputs": [
        {
          "output_type": "stream",
          "name": "stdout",
          "text": [
            "[[71  0]\n",
            " [43  0]]\n"
          ]
        },
        {
          "output_type": "execute_result",
          "data": {
            "text/plain": [
              "<matplotlib.axes._subplots.AxesSubplot at 0x7f003ce6afd0>"
            ]
          },
          "metadata": {},
          "execution_count": 83
        },
        {
          "output_type": "display_data",
          "data": {
            "image/png": "[encoded data removed]",
            "text/plain": [
              "<Figure size 432x288 with 2 Axes>"
            ]
          },
          "metadata": {
            "needs_background": "light"
          }
        }
      ]
    },
    {
      "cell_type": "code",
      "metadata": {
        "colab": {
          "base_uri": "https://localhost:8080/"
        },
        "id": "2hu487lm0MwR",
        "outputId": "50b97193-1455-49ee-f590-d03f5c6fef0f"
      },
      "source": [
        "print(\"Puntuacion entrenamiento: \", model.score(x_train,y_train)*100)\n",
        "print(\"Exactitud: \", accuracy_score(y_test,y_predict)*100)"
      ],
      "execution_count": 84,
      "outputs": [
        {
          "output_type": "stream",
          "name": "stdout",
          "text": [
            "Puntuacion entrenamiento:  62.857142857142854\n",
            "Exactitud:  62.28070175438597\n"
          ]
        }
      ]
    },
    {
      "cell_type": "markdown",
      "metadata": {
        "id": "ad9LjY3Q1G3-"
      },
      "source": [
        "#Arboles de decision"
      ]
    },
    {
      "cell_type": "markdown",
      "metadata": {
        "id": "kxeDisSQ1gl8"
      },
      "source": [
        "##Entrenamiento arboles de decision"
      ]
    },
    {
      "cell_type": "code",
      "metadata": {
        "colab": {
          "base_uri": "https://localhost:8080/"
        },
        "id": "y-6eKQc-1JrE",
        "outputId": "879757f4-0980-49c0-932f-d84eff273369"
      },
      "source": [
        "from sklearn.tree import DecisionTreeClassifier\n",
        "data_tree = DecisionTreeClassifier()\n",
        "data_tree.fit(x_train,y_train)"
      ],
      "execution_count": 85,
      "outputs": [
        {
          "output_type": "execute_result",
          "data": {
            "text/plain": [
              "DecisionTreeClassifier(ccp_alpha=0.0, class_weight=None, criterion='gini',\n",
              "                       max_depth=None, max_features=None, max_leaf_nodes=None,\n",
              "                       min_impurity_decrease=0.0, min_impurity_split=None,\n",
              "                       min_samples_leaf=1, min_samples_split=2,\n",
              "                       min_weight_fraction_leaf=0.0, presort='deprecated',\n",
              "                       random_state=None, splitter='best')"
            ]
          },
          "metadata": {},
          "execution_count": 85
        }
      ]
    },
    {
      "cell_type": "markdown",
      "metadata": {
        "id": "f2c389ZI10Z1"
      },
      "source": [
        "##Predicciones"
      ]
    },
    {
      "cell_type": "code",
      "metadata": {
        "colab": {
          "base_uri": "https://localhost:8080/"
        },
        "id": "yna26DeF13RF",
        "outputId": "05788a86-65b8-47ec-8714-0119c263430f"
      },
      "source": [
        "y_pred = data_tree.predict(x_test)\n",
        "print(classification_report(y_test,y_pred))\n",
        "print(confusion_matrix(y_test,y_pred))\n",
        "print(\"Puntaje del entrenamiento: \", data_tree.score(x_train,y_train)*100)"
      ],
      "execution_count": 87,
      "outputs": [
        {
          "output_type": "stream",
          "name": "stdout",
          "text": [
            "              precision    recall  f1-score   support\n",
            "\n",
            "           B       0.96      0.96      0.96        71\n",
            "           M       0.93      0.93      0.93        43\n",
            "\n",
            "    accuracy                           0.95       114\n",
            "   macro avg       0.94      0.94      0.94       114\n",
            "weighted avg       0.95      0.95      0.95       114\n",
            "\n",
            "[[68  3]\n",
            " [ 3 40]]\n",
            "Puntaje del entrenamiento:  100.0\n"
          ]
        }
      ]
    },
    {
      "cell_type": "markdown",
      "metadata": {
        "id": "itIntr_T3TXp"
      },
      "source": [
        "##Matriz de confucion"
      ]
    },
    {
      "cell_type": "code",
      "metadata": {
        "colab": {
          "base_uri": "https://localhost:8080/",
          "height": 316
        },
        "id": "GE3jqG243HcK",
        "outputId": "6766dea4-d749-42bf-a8cf-7fc47f8b8071"
      },
      "source": [
        "#Métricas para comprobar\n",
        "from sklearn.metrics import confusion_matrix \n",
        "import numpy as np\n",
        "cm=confusion_matrix(y_test,y_pred)\n",
        "print(cm)\n",
        "import seaborn as sns\n",
        "group_names = ['True Neg','False Pos','False Neg','True Pos']\n",
        "group_counts = [\"{0:0.0f}\".format(value) for value in cm.flatten()]\n",
        "group_percentages = [\"{0:.2%}\".format(value) for value in cm.flatten()/np.sum(cm)]\n",
        "labels = [f\"{v1}\\n{v2}\\n{v3}\" for v1, v2, v3 in zip(group_names,group_counts,group_percentages)]\n",
        "labels = np.asarray(labels).reshape(2,2)\n",
        "sns.heatmap(cm, annot=labels, fmt='', cmap='Blues')\n"
      ],
      "execution_count": 89,
      "outputs": [
        {
          "output_type": "stream",
          "name": "stdout",
          "text": [
            "[[68  3]\n",
            " [ 3 40]]\n"
          ]
        },
        {
          "output_type": "execute_result",
          "data": {
            "text/plain": [
              "<matplotlib.axes._subplots.AxesSubplot at 0x7f003b339710>"
            ]
          },
          "metadata": {},
          "execution_count": 89
        },
        {
          "output_type": "display_data",
          "data": {
            "image/png": "[encoded data removed]",
            "text/plain": [
              "<Figure size 432x288 with 2 Axes>"
            ]
          },
          "metadata": {
            "needs_background": "light"
          }
        }
      ]
    }
  ]
}