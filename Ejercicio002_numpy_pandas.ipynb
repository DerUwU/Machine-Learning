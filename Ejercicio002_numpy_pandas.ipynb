{
  "nbformat": 4,
  "nbformat_minor": 0,
  "metadata": {
    "colab": {
      "name": "Ejercicio002.ipynb",
      "provenance": [],
      "collapsed_sections": [
        "ZumUSGdHixK5",
        "CTQ4BUkqv2E4"
      ]
    },
    "kernelspec": {
      "name": "python3",
      "display_name": "Python 3"
    },
    "language_info": {
      "name": "python"
    }
  },
  "cells": [
    {
      "cell_type": "markdown",
      "metadata": {
        "id": "ZumUSGdHixK5"
      },
      "source": [
        "#Ejemplo numpy"
      ]
    },
    {
      "cell_type": "code",
      "metadata": {
        "colab": {
          "base_uri": "https://localhost:8080/"
        },
        "id": "HjXpaxdYiW00",
        "outputId": "40530247-0be5-46e1-ae44-4119ae1c37b8"
      },
      "source": [
        "import numpy as np\n",
        "\n",
        "a = np.array([1,2,3]) #Arreglo unidimencional\n",
        "print(a,\"\\n\")\n",
        "b=np.array([(1,2,3),(4,5,6)]) #Arreglo bidimencional\n",
        "print(b)\n"
      ],
      "execution_count": 1,
      "outputs": [
        {
          "output_type": "stream",
          "name": "stdout",
          "text": [
            "[1 2 3] \n",
            "\n",
            "[[1 2 3]\n",
            " [4 5 6]]\n"
          ]
        }
      ]
    },
    {
      "cell_type": "code",
      "metadata": {
        "colab": {
          "base_uri": "https://localhost:8080/"
        },
        "id": "RrojAg9qkiLY",
        "outputId": "d271a236-fd1e-4acf-90d6-879ab0d17dd0"
      },
      "source": [
        "#Crear matrices de 1 (3 filas y 5 columnas)\n",
        "matriz1 = np.ones((3,5))\n",
        "print(matriz1,'\\n')\n",
        "\n",
        "#Crear matrices de 0 (3 filas y 5 columnas)\n",
        "matriz0 = np.zeros((3,5))\n",
        "print(matriz0,'\\n')\n",
        "\n",
        "#Crar matrices con un solo calor en todas las posciciones (3 filas y 5 columnas)\n",
        "matriz_igual = np.full((3,5),5)\n",
        "print(matriz_igual,'\\n')\n",
        "\n",
        "#Crear matriz con numeros aleatorios (3 filas y 5 columnas)\n",
        "matriz_random = np.random.random((3,5))\n",
        "print(matriz_random,'\\n')\n",
        "\n",
        "#Crar matriz unidimencional con valores que se separan uniformemente\n",
        "llenarM = np.arange(0,50,10) # inicia en 0 hasta 40 y va de 10 en 10\n",
        "print(llenarM,'\\n')\n",
        "\n",
        "#Crea matriz unidimencional con valores que se separan uniformemente\n",
        "llenarM = np.linspace(0,50,10) # inicia en 0 hasta 50 y creame 10 numeros\n",
        "print(llenarM,'\\n')\n",
        "\n"
      ],
      "execution_count": 18,
      "outputs": [
        {
          "output_type": "stream",
          "name": "stdout",
          "text": [
            "[[1. 1. 1. 1. 1.]\n",
            " [1. 1. 1. 1. 1.]\n",
            " [1. 1. 1. 1. 1.]] \n",
            "\n",
            "[[0. 0. 0. 0. 0.]\n",
            " [0. 0. 0. 0. 0.]\n",
            " [0. 0. 0. 0. 0.]] \n",
            "\n",
            "[[5 5 5 5 5]\n",
            " [5 5 5 5 5]\n",
            " [5 5 5 5 5]] \n",
            "\n",
            "[[0.89937388 0.8278793  0.61053478 0.77335238 0.1370551 ]\n",
            " [0.62140053 0.30335475 0.01473508 0.2032619  0.01195641]\n",
            " [0.21676934 0.1030371  0.63226203 0.73547724 0.54040434]] \n",
            "\n",
            "[ 0 10 20 30 40] \n",
            "\n",
            "[ 0.          5.55555556 11.11111111 16.66666667 22.22222222 27.77777778\n",
            " 33.33333333 38.88888889 44.44444444 50.        ] \n",
            "\n"
          ]
        }
      ]
    },
    {
      "cell_type": "code",
      "metadata": {
        "id": "fKIjwq-opgVi"
      },
      "source": [
        "#Crea una matriz identidad\n",
        "matriz_identidad = np.eye(4,4)\n",
        "print(matriz_identidad,'\\n')\n",
        "\n",
        "#Parametros de las matrices\n",
        "b = np.array([[1,2,3],[4,5,6]])\n",
        "print(b.ndim, \"Es el tamaño del arreglo\")\n",
        "print(b.dtype, \"El tipo de dato del arreglo\")\n",
        "print(b.size, \"La suma de los arreglos\")\n",
        "print(b.shape, \"\\n\")\n",
        "\n",
        "#reshape = ordena el arreglo\n",
        "a =b.reshape(3,2)\n",
        "print(a,'\\n')\n",
        "\n",
        "#Imprimir el elemendo que es igual a 9\n",
        "a1 = np.array([[1,2,3,4,5,6],[7,8,9,10,11,12]])\n",
        "print(a1[1,2])\n",
        "#Imprimir los valores de la primera fila\n",
        "print(a1[0,:])\n"
      ],
      "execution_count": null,
      "outputs": []
    },
    {
      "cell_type": "code",
      "metadata": {
        "id": "XTyv2LIxtNEk"
      },
      "source": [
        "c = np.array(((1,2,3,4,5,6),(7,8,9,10,11,12)))\n",
        "print(c)\n",
        "print(c.min(),\"Minimo entre las dos matrices\")\n",
        "print(c.max(),\"Maximo entre las dos matrices\")\n",
        "print(c.sum(),\"Suma todos los valores\")\n",
        "print(c.sum(0),\"Suma las columnas (1+7, 2+8 etc..)\")\n",
        "print(c.sum(1),\"Suma los valores del primer y segundo arreglo por separado\")\n",
        "\n",
        "#desviación estándar \n",
        "print(np.std(c))"
      ],
      "execution_count": null,
      "outputs": []
    },
    {
      "cell_type": "code",
      "metadata": {
        "id": "wQMj5V3Duifd"
      },
      "source": [
        "A=np.array(((1,2),(3,4)))\n",
        "B = np.array(((9,8),(7,6)))\n",
        "\n",
        "print(A,'\\n')\n",
        "print(B,'\\n')\n",
        "print(A+B,'\\n')\n",
        "print(A-B,'\\n')\n",
        "print(A*B,'\\n')\n",
        "print(A.dot(B),'\\n') #dot = multiplicacion de matrices"
      ],
      "execution_count": null,
      "outputs": []
    },
    {
      "cell_type": "markdown",
      "metadata": {
        "id": "CTQ4BUkqv2E4"
      },
      "source": [
        "#Pandas"
      ]
    },
    {
      "cell_type": "code",
      "metadata": {
        "id": "MRyIFRzav5DJ"
      },
      "source": [
        "import numpy as np\n",
        "import pandas as pd\n",
        "data = np.array([[\"\",\"Nombre\",\"Edad\"],[\"Estudiante\",\"Ana\",12],[\"Estudiante2\",\"Maria\",9]])\n",
        "df = pd.DataFrame(data)\n",
        "print(df,'\\n')\n",
        "print(pd.DataFrame(data=data[1:,1:], index= data[1:,0],columns=data[0,1:]))\n",
        "print(\"Forma:\", df.shape)\n",
        "print(\"Estadisticas: \\n\", df.describe())\n",
        "\n"
      ],
      "execution_count": null,
      "outputs": []
    },
    {
      "cell_type": "code",
      "metadata": {
        "id": "iSaZh6ovysOS"
      },
      "source": [
        "data2 = np.array([[1,2,3],[4,5,6],[7,8,9]])\n",
        "df2= pd.DataFrame(data2)\n",
        "\n",
        "print(\"Estadisticas :\\n \", df2.describe(),\"\\n\")\n",
        "print(\"Media :\\n \", df2.mean())"
      ],
      "execution_count": null,
      "outputs": []
    },
    {
      "cell_type": "code",
      "metadata": {
        "colab": {
          "base_uri": "https://localhost:8080/"
        },
        "id": "Txz6OnoizLKv",
        "outputId": "83c88a51-a985-4d1d-813f-6b48d4971a4e"
      },
      "source": [
        "print(df2.max())\n",
        "print(df2.min())"
      ],
      "execution_count": 52,
      "outputs": [
        {
          "output_type": "stream",
          "name": "stdout",
          "text": [
            "0    7\n",
            "1    8\n",
            "2    9\n",
            "dtype: int64\n",
            "0    1\n",
            "1    2\n",
            "2    3\n",
            "dtype: int64\n"
          ]
        }
      ]
    }
  ]
}