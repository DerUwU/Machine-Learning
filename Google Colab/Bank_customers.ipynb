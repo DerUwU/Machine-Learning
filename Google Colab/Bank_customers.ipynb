{
  "nbformat": 4,
  "nbformat_minor": 0,
  "metadata": {
    "orig_nbformat": 4,
    "language_info": {
      "name": "python",
      "version": "3.8.2",
      "mimetype": "text/x-python",
      "codemirror_mode": {
        "name": "ipython",
        "version": 3
      },
      "pygments_lexer": "ipython3",
      "nbconvert_exporter": "python",
      "file_extension": ".py"
    },
    "kernelspec": {
      "name": "python3",
      "display_name": "Python 3.8.2 64-bit"
    },
    "interpreter": {
      "hash": "986a9d921492cc6a2b132350bb893c91125f93bf1e31922fad18b2d1a1db1fb5"
    },
    "colab": {
      "name": "Bank_customers.ipynb",
      "provenance": []
    }
  },
  "cells": [
    {
      "cell_type": "markdown",
      "metadata": {
        "id": "vs7AU--RSx_f"
      },
      "source": [
        "## Ver informacion"
      ]
    },
    {
      "cell_type": "code",
      "metadata": {
        "id": "WRdqRVy3Sx_f"
      },
      "source": [
        "import numpy as np\n",
        "import matplotlib.pyplot as plt\n",
        "import pandas as pd\n",
        "import seaborn as sns"
      ],
      "execution_count": 1,
      "outputs": []
    },
    {
      "cell_type": "code",
      "metadata": {
        "id": "6xGxNLSrSx_g"
      },
      "source": [
        "df_customers = pd.read_csv(\"https://raw.githubusercontent.com/DerUwU/Machine-Learning/main/Datasets/BankCustomerData.csv\")"
      ],
      "execution_count": 2,
      "outputs": []
    },
    {
      "cell_type": "code",
      "metadata": {
        "colab": {
          "base_uri": "https://localhost:8080/"
        },
        "id": "6T5P3yuFSx_g",
        "outputId": "9bece82d-7702-4864-9797-5d0548b28ac6"
      },
      "source": [
        "df_customers.info()"
      ],
      "execution_count": 3,
      "outputs": [
        {
          "output_type": "stream",
          "name": "stdout",
          "text": [
            "<class 'pandas.core.frame.DataFrame'>\n",
            "RangeIndex: 42639 entries, 0 to 42638\n",
            "Data columns (total 17 columns):\n",
            " #   Column        Non-Null Count  Dtype \n",
            "---  ------        --------------  ----- \n",
            " 0   age           42639 non-null  int64 \n",
            " 1   job           42639 non-null  object\n",
            " 2   marital       42639 non-null  object\n",
            " 3   education     42639 non-null  object\n",
            " 4   default       42639 non-null  object\n",
            " 5   balance       42639 non-null  int64 \n",
            " 6   housing       42639 non-null  object\n",
            " 7   loan          42639 non-null  object\n",
            " 8   contact       42639 non-null  object\n",
            " 9   day           42639 non-null  int64 \n",
            " 10  month         42639 non-null  object\n",
            " 11  duration      42639 non-null  int64 \n",
            " 12  campaign      42639 non-null  int64 \n",
            " 13  pdays         42639 non-null  int64 \n",
            " 14  previous      42639 non-null  int64 \n",
            " 15  poutcome      42639 non-null  object\n",
            " 16  term_deposit  42639 non-null  object\n",
            "dtypes: int64(7), object(10)\n",
            "memory usage: 5.5+ MB\n"
          ]
        }
      ]
    },
    {
      "cell_type": "code",
      "metadata": {
        "colab": {
          "base_uri": "https://localhost:8080/",
          "height": 297
        },
        "id": "IW_u3dBGSx_h",
        "outputId": "dfc020ce-e589-49e0-eab6-1fd6afabece1"
      },
      "source": [
        "df_customers.describe()"
      ],
      "execution_count": 4,
      "outputs": [
        {
          "output_type": "execute_result",
          "data": {
            "text/html": [
              "<div>\n",
              "<style scoped>\n",
              "    .dataframe tbody tr th:only-of-type {\n",
              "        vertical-align: middle;\n",
              "    }\n",
              "\n",
              "    .dataframe tbody tr th {\n",
              "        vertical-align: top;\n",
              "    }\n",
              "\n",
              "    .dataframe thead th {\n",
              "        text-align: right;\n",
              "    }\n",
              "</style>\n",
              "<table border=\"1\" class=\"dataframe\">\n",
              "  <thead>\n",
              "    <tr style=\"text-align: right;\">\n",
              "      <th></th>\n",
              "      <th>age</th>\n",
              "      <th>balance</th>\n",
              "      <th>day</th>\n",
              "      <th>duration</th>\n",
              "      <th>campaign</th>\n",
              "      <th>pdays</th>\n",
              "      <th>previous</th>\n",
              "    </tr>\n",
              "  </thead>\n",
              "  <tbody>\n",
              "    <tr>\n",
              "      <th>count</th>\n",
              "      <td>42639.000000</td>\n",
              "      <td>42639.000000</td>\n",
              "      <td>42639.000000</td>\n",
              "      <td>42639.000000</td>\n",
              "      <td>42639.000000</td>\n",
              "      <td>42639.000000</td>\n",
              "      <td>42639.000000</td>\n",
              "    </tr>\n",
              "    <tr>\n",
              "      <th>mean</th>\n",
              "      <td>40.788808</td>\n",
              "      <td>1331.863951</td>\n",
              "      <td>15.854781</td>\n",
              "      <td>255.957504</td>\n",
              "      <td>2.816412</td>\n",
              "      <td>34.169141</td>\n",
              "      <td>0.465442</td>\n",
              "    </tr>\n",
              "    <tr>\n",
              "      <th>std</th>\n",
              "      <td>10.200236</td>\n",
              "      <td>3011.537676</td>\n",
              "      <td>8.293901</td>\n",
              "      <td>258.361368</td>\n",
              "      <td>3.163564</td>\n",
              "      <td>92.041713</td>\n",
              "      <td>2.166705</td>\n",
              "    </tr>\n",
              "    <tr>\n",
              "      <th>min</th>\n",
              "      <td>18.000000</td>\n",
              "      <td>-8019.000000</td>\n",
              "      <td>1.000000</td>\n",
              "      <td>0.000000</td>\n",
              "      <td>1.000000</td>\n",
              "      <td>-1.000000</td>\n",
              "      <td>0.000000</td>\n",
              "    </tr>\n",
              "    <tr>\n",
              "      <th>25%</th>\n",
              "      <td>33.000000</td>\n",
              "      <td>62.000000</td>\n",
              "      <td>8.000000</td>\n",
              "      <td>101.000000</td>\n",
              "      <td>1.000000</td>\n",
              "      <td>-1.000000</td>\n",
              "      <td>0.000000</td>\n",
              "    </tr>\n",
              "    <tr>\n",
              "      <th>50%</th>\n",
              "      <td>39.000000</td>\n",
              "      <td>429.000000</td>\n",
              "      <td>16.000000</td>\n",
              "      <td>177.000000</td>\n",
              "      <td>2.000000</td>\n",
              "      <td>-1.000000</td>\n",
              "      <td>0.000000</td>\n",
              "    </tr>\n",
              "    <tr>\n",
              "      <th>75%</th>\n",
              "      <td>48.000000</td>\n",
              "      <td>1381.500000</td>\n",
              "      <td>21.000000</td>\n",
              "      <td>315.000000</td>\n",
              "      <td>3.000000</td>\n",
              "      <td>-1.000000</td>\n",
              "      <td>0.000000</td>\n",
              "    </tr>\n",
              "    <tr>\n",
              "      <th>max</th>\n",
              "      <td>95.000000</td>\n",
              "      <td>102127.000000</td>\n",
              "      <td>31.000000</td>\n",
              "      <td>4918.000000</td>\n",
              "      <td>63.000000</td>\n",
              "      <td>536.000000</td>\n",
              "      <td>275.000000</td>\n",
              "    </tr>\n",
              "  </tbody>\n",
              "</table>\n",
              "</div>"
            ],
            "text/plain": [
              "                age        balance  ...         pdays      previous\n",
              "count  42639.000000   42639.000000  ...  42639.000000  42639.000000\n",
              "mean      40.788808    1331.863951  ...     34.169141      0.465442\n",
              "std       10.200236    3011.537676  ...     92.041713      2.166705\n",
              "min       18.000000   -8019.000000  ...     -1.000000      0.000000\n",
              "25%       33.000000      62.000000  ...     -1.000000      0.000000\n",
              "50%       39.000000     429.000000  ...     -1.000000      0.000000\n",
              "75%       48.000000    1381.500000  ...     -1.000000      0.000000\n",
              "max       95.000000  102127.000000  ...    536.000000    275.000000\n",
              "\n",
              "[8 rows x 7 columns]"
            ]
          },
          "metadata": {},
          "execution_count": 4
        }
      ]
    },
    {
      "cell_type": "code",
      "metadata": {
        "colab": {
          "base_uri": "https://localhost:8080/",
          "height": 689
        },
        "id": "bRE2YOpZSx_i",
        "outputId": "55e01b05-7d71-4026-bfa0-9f45f72c0c34"
      },
      "source": [
        "df_customers.head(20)"
      ],
      "execution_count": 5,
      "outputs": [
        {
          "output_type": "execute_result",
          "data": {
            "text/html": [
              "<div>\n",
              "<style scoped>\n",
              "    .dataframe tbody tr th:only-of-type {\n",
              "        vertical-align: middle;\n",
              "    }\n",
              "\n",
              "    .dataframe tbody tr th {\n",
              "        vertical-align: top;\n",
              "    }\n",
              "\n",
              "    .dataframe thead th {\n",
              "        text-align: right;\n",
              "    }\n",
              "</style>\n",
              "<table border=\"1\" class=\"dataframe\">\n",
              "  <thead>\n",
              "    <tr style=\"text-align: right;\">\n",
              "      <th></th>\n",
              "      <th>age</th>\n",
              "      <th>job</th>\n",
              "      <th>marital</th>\n",
              "      <th>education</th>\n",
              "      <th>default</th>\n",
              "      <th>balance</th>\n",
              "      <th>housing</th>\n",
              "      <th>loan</th>\n",
              "      <th>contact</th>\n",
              "      <th>day</th>\n",
              "      <th>month</th>\n",
              "      <th>duration</th>\n",
              "      <th>campaign</th>\n",
              "      <th>pdays</th>\n",
              "      <th>previous</th>\n",
              "      <th>poutcome</th>\n",
              "      <th>term_deposit</th>\n",
              "    </tr>\n",
              "  </thead>\n",
              "  <tbody>\n",
              "    <tr>\n",
              "      <th>0</th>\n",
              "      <td>58</td>\n",
              "      <td>management</td>\n",
              "      <td>married</td>\n",
              "      <td>tertiary</td>\n",
              "      <td>no</td>\n",
              "      <td>2143</td>\n",
              "      <td>yes</td>\n",
              "      <td>no</td>\n",
              "      <td>unknown</td>\n",
              "      <td>5</td>\n",
              "      <td>may</td>\n",
              "      <td>261</td>\n",
              "      <td>1</td>\n",
              "      <td>-1</td>\n",
              "      <td>0</td>\n",
              "      <td>unknown</td>\n",
              "      <td>no</td>\n",
              "    </tr>\n",
              "    <tr>\n",
              "      <th>1</th>\n",
              "      <td>44</td>\n",
              "      <td>technician</td>\n",
              "      <td>single</td>\n",
              "      <td>secondary</td>\n",
              "      <td>no</td>\n",
              "      <td>29</td>\n",
              "      <td>yes</td>\n",
              "      <td>no</td>\n",
              "      <td>unknown</td>\n",
              "      <td>5</td>\n",
              "      <td>may</td>\n",
              "      <td>151</td>\n",
              "      <td>1</td>\n",
              "      <td>-1</td>\n",
              "      <td>0</td>\n",
              "      <td>unknown</td>\n",
              "      <td>no</td>\n",
              "    </tr>\n",
              "    <tr>\n",
              "      <th>2</th>\n",
              "      <td>33</td>\n",
              "      <td>entrepreneur</td>\n",
              "      <td>married</td>\n",
              "      <td>secondary</td>\n",
              "      <td>no</td>\n",
              "      <td>2</td>\n",
              "      <td>yes</td>\n",
              "      <td>yes</td>\n",
              "      <td>unknown</td>\n",
              "      <td>5</td>\n",
              "      <td>may</td>\n",
              "      <td>76</td>\n",
              "      <td>1</td>\n",
              "      <td>-1</td>\n",
              "      <td>0</td>\n",
              "      <td>unknown</td>\n",
              "      <td>no</td>\n",
              "    </tr>\n",
              "    <tr>\n",
              "      <th>3</th>\n",
              "      <td>47</td>\n",
              "      <td>blue-collar</td>\n",
              "      <td>married</td>\n",
              "      <td>unknown</td>\n",
              "      <td>no</td>\n",
              "      <td>1506</td>\n",
              "      <td>yes</td>\n",
              "      <td>no</td>\n",
              "      <td>unknown</td>\n",
              "      <td>5</td>\n",
              "      <td>may</td>\n",
              "      <td>92</td>\n",
              "      <td>1</td>\n",
              "      <td>-1</td>\n",
              "      <td>0</td>\n",
              "      <td>unknown</td>\n",
              "      <td>no</td>\n",
              "    </tr>\n",
              "    <tr>\n",
              "      <th>4</th>\n",
              "      <td>33</td>\n",
              "      <td>unknown</td>\n",
              "      <td>single</td>\n",
              "      <td>unknown</td>\n",
              "      <td>no</td>\n",
              "      <td>1</td>\n",
              "      <td>no</td>\n",
              "      <td>no</td>\n",
              "      <td>unknown</td>\n",
              "      <td>5</td>\n",
              "      <td>may</td>\n",
              "      <td>198</td>\n",
              "      <td>1</td>\n",
              "      <td>-1</td>\n",
              "      <td>0</td>\n",
              "      <td>unknown</td>\n",
              "      <td>no</td>\n",
              "    </tr>\n",
              "    <tr>\n",
              "      <th>5</th>\n",
              "      <td>35</td>\n",
              "      <td>management</td>\n",
              "      <td>married</td>\n",
              "      <td>tertiary</td>\n",
              "      <td>no</td>\n",
              "      <td>231</td>\n",
              "      <td>yes</td>\n",
              "      <td>no</td>\n",
              "      <td>unknown</td>\n",
              "      <td>5</td>\n",
              "      <td>may</td>\n",
              "      <td>139</td>\n",
              "      <td>1</td>\n",
              "      <td>-1</td>\n",
              "      <td>0</td>\n",
              "      <td>unknown</td>\n",
              "      <td>no</td>\n",
              "    </tr>\n",
              "    <tr>\n",
              "      <th>6</th>\n",
              "      <td>28</td>\n",
              "      <td>management</td>\n",
              "      <td>single</td>\n",
              "      <td>tertiary</td>\n",
              "      <td>no</td>\n",
              "      <td>447</td>\n",
              "      <td>yes</td>\n",
              "      <td>yes</td>\n",
              "      <td>unknown</td>\n",
              "      <td>5</td>\n",
              "      <td>may</td>\n",
              "      <td>217</td>\n",
              "      <td>1</td>\n",
              "      <td>-1</td>\n",
              "      <td>0</td>\n",
              "      <td>unknown</td>\n",
              "      <td>no</td>\n",
              "    </tr>\n",
              "    <tr>\n",
              "      <th>7</th>\n",
              "      <td>42</td>\n",
              "      <td>entrepreneur</td>\n",
              "      <td>divorced</td>\n",
              "      <td>tertiary</td>\n",
              "      <td>yes</td>\n",
              "      <td>2</td>\n",
              "      <td>yes</td>\n",
              "      <td>no</td>\n",
              "      <td>unknown</td>\n",
              "      <td>5</td>\n",
              "      <td>may</td>\n",
              "      <td>380</td>\n",
              "      <td>1</td>\n",
              "      <td>-1</td>\n",
              "      <td>0</td>\n",
              "      <td>unknown</td>\n",
              "      <td>no</td>\n",
              "    </tr>\n",
              "    <tr>\n",
              "      <th>8</th>\n",
              "      <td>58</td>\n",
              "      <td>retired</td>\n",
              "      <td>married</td>\n",
              "      <td>primary</td>\n",
              "      <td>no</td>\n",
              "      <td>121</td>\n",
              "      <td>yes</td>\n",
              "      <td>no</td>\n",
              "      <td>unknown</td>\n",
              "      <td>5</td>\n",
              "      <td>may</td>\n",
              "      <td>50</td>\n",
              "      <td>1</td>\n",
              "      <td>-1</td>\n",
              "      <td>0</td>\n",
              "      <td>unknown</td>\n",
              "      <td>no</td>\n",
              "    </tr>\n",
              "    <tr>\n",
              "      <th>9</th>\n",
              "      <td>43</td>\n",
              "      <td>technician</td>\n",
              "      <td>single</td>\n",
              "      <td>secondary</td>\n",
              "      <td>no</td>\n",
              "      <td>593</td>\n",
              "      <td>yes</td>\n",
              "      <td>no</td>\n",
              "      <td>unknown</td>\n",
              "      <td>5</td>\n",
              "      <td>may</td>\n",
              "      <td>55</td>\n",
              "      <td>1</td>\n",
              "      <td>-1</td>\n",
              "      <td>0</td>\n",
              "      <td>unknown</td>\n",
              "      <td>no</td>\n",
              "    </tr>\n",
              "    <tr>\n",
              "      <th>10</th>\n",
              "      <td>41</td>\n",
              "      <td>admin.</td>\n",
              "      <td>divorced</td>\n",
              "      <td>secondary</td>\n",
              "      <td>no</td>\n",
              "      <td>270</td>\n",
              "      <td>yes</td>\n",
              "      <td>no</td>\n",
              "      <td>unknown</td>\n",
              "      <td>5</td>\n",
              "      <td>may</td>\n",
              "      <td>222</td>\n",
              "      <td>1</td>\n",
              "      <td>-1</td>\n",
              "      <td>0</td>\n",
              "      <td>unknown</td>\n",
              "      <td>no</td>\n",
              "    </tr>\n",
              "    <tr>\n",
              "      <th>11</th>\n",
              "      <td>29</td>\n",
              "      <td>admin.</td>\n",
              "      <td>single</td>\n",
              "      <td>secondary</td>\n",
              "      <td>no</td>\n",
              "      <td>390</td>\n",
              "      <td>yes</td>\n",
              "      <td>no</td>\n",
              "      <td>unknown</td>\n",
              "      <td>5</td>\n",
              "      <td>may</td>\n",
              "      <td>137</td>\n",
              "      <td>1</td>\n",
              "      <td>-1</td>\n",
              "      <td>0</td>\n",
              "      <td>unknown</td>\n",
              "      <td>no</td>\n",
              "    </tr>\n",
              "    <tr>\n",
              "      <th>12</th>\n",
              "      <td>53</td>\n",
              "      <td>technician</td>\n",
              "      <td>married</td>\n",
              "      <td>secondary</td>\n",
              "      <td>no</td>\n",
              "      <td>6</td>\n",
              "      <td>yes</td>\n",
              "      <td>no</td>\n",
              "      <td>unknown</td>\n",
              "      <td>5</td>\n",
              "      <td>may</td>\n",
              "      <td>517</td>\n",
              "      <td>1</td>\n",
              "      <td>-1</td>\n",
              "      <td>0</td>\n",
              "      <td>unknown</td>\n",
              "      <td>no</td>\n",
              "    </tr>\n",
              "    <tr>\n",
              "      <th>13</th>\n",
              "      <td>58</td>\n",
              "      <td>technician</td>\n",
              "      <td>married</td>\n",
              "      <td>unknown</td>\n",
              "      <td>no</td>\n",
              "      <td>71</td>\n",
              "      <td>yes</td>\n",
              "      <td>no</td>\n",
              "      <td>unknown</td>\n",
              "      <td>5</td>\n",
              "      <td>may</td>\n",
              "      <td>71</td>\n",
              "      <td>1</td>\n",
              "      <td>-1</td>\n",
              "      <td>0</td>\n",
              "      <td>unknown</td>\n",
              "      <td>no</td>\n",
              "    </tr>\n",
              "    <tr>\n",
              "      <th>14</th>\n",
              "      <td>57</td>\n",
              "      <td>services</td>\n",
              "      <td>married</td>\n",
              "      <td>secondary</td>\n",
              "      <td>no</td>\n",
              "      <td>162</td>\n",
              "      <td>yes</td>\n",
              "      <td>no</td>\n",
              "      <td>unknown</td>\n",
              "      <td>5</td>\n",
              "      <td>may</td>\n",
              "      <td>174</td>\n",
              "      <td>1</td>\n",
              "      <td>-1</td>\n",
              "      <td>0</td>\n",
              "      <td>unknown</td>\n",
              "      <td>no</td>\n",
              "    </tr>\n",
              "    <tr>\n",
              "      <th>15</th>\n",
              "      <td>51</td>\n",
              "      <td>retired</td>\n",
              "      <td>married</td>\n",
              "      <td>primary</td>\n",
              "      <td>no</td>\n",
              "      <td>229</td>\n",
              "      <td>yes</td>\n",
              "      <td>no</td>\n",
              "      <td>unknown</td>\n",
              "      <td>5</td>\n",
              "      <td>may</td>\n",
              "      <td>353</td>\n",
              "      <td>1</td>\n",
              "      <td>-1</td>\n",
              "      <td>0</td>\n",
              "      <td>unknown</td>\n",
              "      <td>no</td>\n",
              "    </tr>\n",
              "    <tr>\n",
              "      <th>16</th>\n",
              "      <td>45</td>\n",
              "      <td>admin.</td>\n",
              "      <td>single</td>\n",
              "      <td>unknown</td>\n",
              "      <td>no</td>\n",
              "      <td>13</td>\n",
              "      <td>yes</td>\n",
              "      <td>no</td>\n",
              "      <td>unknown</td>\n",
              "      <td>5</td>\n",
              "      <td>may</td>\n",
              "      <td>98</td>\n",
              "      <td>1</td>\n",
              "      <td>-1</td>\n",
              "      <td>0</td>\n",
              "      <td>unknown</td>\n",
              "      <td>no</td>\n",
              "    </tr>\n",
              "    <tr>\n",
              "      <th>17</th>\n",
              "      <td>57</td>\n",
              "      <td>blue-collar</td>\n",
              "      <td>married</td>\n",
              "      <td>primary</td>\n",
              "      <td>no</td>\n",
              "      <td>52</td>\n",
              "      <td>yes</td>\n",
              "      <td>no</td>\n",
              "      <td>unknown</td>\n",
              "      <td>5</td>\n",
              "      <td>may</td>\n",
              "      <td>38</td>\n",
              "      <td>1</td>\n",
              "      <td>-1</td>\n",
              "      <td>0</td>\n",
              "      <td>unknown</td>\n",
              "      <td>no</td>\n",
              "    </tr>\n",
              "    <tr>\n",
              "      <th>18</th>\n",
              "      <td>60</td>\n",
              "      <td>retired</td>\n",
              "      <td>married</td>\n",
              "      <td>primary</td>\n",
              "      <td>no</td>\n",
              "      <td>60</td>\n",
              "      <td>yes</td>\n",
              "      <td>no</td>\n",
              "      <td>unknown</td>\n",
              "      <td>5</td>\n",
              "      <td>may</td>\n",
              "      <td>219</td>\n",
              "      <td>1</td>\n",
              "      <td>-1</td>\n",
              "      <td>0</td>\n",
              "      <td>unknown</td>\n",
              "      <td>no</td>\n",
              "    </tr>\n",
              "    <tr>\n",
              "      <th>19</th>\n",
              "      <td>33</td>\n",
              "      <td>services</td>\n",
              "      <td>married</td>\n",
              "      <td>secondary</td>\n",
              "      <td>no</td>\n",
              "      <td>0</td>\n",
              "      <td>yes</td>\n",
              "      <td>no</td>\n",
              "      <td>unknown</td>\n",
              "      <td>5</td>\n",
              "      <td>may</td>\n",
              "      <td>54</td>\n",
              "      <td>1</td>\n",
              "      <td>-1</td>\n",
              "      <td>0</td>\n",
              "      <td>unknown</td>\n",
              "      <td>no</td>\n",
              "    </tr>\n",
              "  </tbody>\n",
              "</table>\n",
              "</div>"
            ],
            "text/plain": [
              "    age           job   marital  ... previous poutcome  term_deposit\n",
              "0    58    management   married  ...        0  unknown            no\n",
              "1    44    technician    single  ...        0  unknown            no\n",
              "2    33  entrepreneur   married  ...        0  unknown            no\n",
              "3    47   blue-collar   married  ...        0  unknown            no\n",
              "4    33       unknown    single  ...        0  unknown            no\n",
              "5    35    management   married  ...        0  unknown            no\n",
              "6    28    management    single  ...        0  unknown            no\n",
              "7    42  entrepreneur  divorced  ...        0  unknown            no\n",
              "8    58       retired   married  ...        0  unknown            no\n",
              "9    43    technician    single  ...        0  unknown            no\n",
              "10   41        admin.  divorced  ...        0  unknown            no\n",
              "11   29        admin.    single  ...        0  unknown            no\n",
              "12   53    technician   married  ...        0  unknown            no\n",
              "13   58    technician   married  ...        0  unknown            no\n",
              "14   57      services   married  ...        0  unknown            no\n",
              "15   51       retired   married  ...        0  unknown            no\n",
              "16   45        admin.    single  ...        0  unknown            no\n",
              "17   57   blue-collar   married  ...        0  unknown            no\n",
              "18   60       retired   married  ...        0  unknown            no\n",
              "19   33      services   married  ...        0  unknown            no\n",
              "\n",
              "[20 rows x 17 columns]"
            ]
          },
          "metadata": {},
          "execution_count": 5
        }
      ]
    },
    {
      "cell_type": "code",
      "metadata": {
        "colab": {
          "base_uri": "https://localhost:8080/"
        },
        "id": "-yAeYsnOSx_i",
        "outputId": "2532032c-d519-404c-db30-cbbbbceae284"
      },
      "source": [
        "df_customers.isnull().sum()"
      ],
      "execution_count": 6,
      "outputs": [
        {
          "output_type": "execute_result",
          "data": {
            "text/plain": [
              "age             0\n",
              "job             0\n",
              "marital         0\n",
              "education       0\n",
              "default         0\n",
              "balance         0\n",
              "housing         0\n",
              "loan            0\n",
              "contact         0\n",
              "day             0\n",
              "month           0\n",
              "duration        0\n",
              "campaign        0\n",
              "pdays           0\n",
              "previous        0\n",
              "poutcome        0\n",
              "term_deposit    0\n",
              "dtype: int64"
            ]
          },
          "metadata": {},
          "execution_count": 6
        }
      ]
    },
    {
      "cell_type": "markdown",
      "metadata": {
        "id": "3OKkGhm0Sx_j"
      },
      "source": [
        "## Ver los datos"
      ]
    },
    {
      "cell_type": "markdown",
      "metadata": {
        "id": "-Ay7EyiESx_j"
      },
      "source": [
        "##Matriz de correlacion"
      ]
    },
    {
      "cell_type": "code",
      "metadata": {
        "colab": {
          "base_uri": "https://localhost:8080/",
          "height": 613
        },
        "id": "sFNH0X_nSx_j",
        "outputId": "34a1429b-15b4-4845-aa8e-f0755d87aa36"
      },
      "source": [
        "plt.subplots(figsize=(10, 10))\n",
        "correlation_matrix = df_customers.corr()\n",
        "sns.heatmap(data=correlation_matrix,annot=True)"
      ],
      "execution_count": 13,
      "outputs": [
        {
          "output_type": "execute_result",
          "data": {
            "text/plain": [
              "<matplotlib.axes._subplots.AxesSubplot at 0x7fceedbf4410>"
            ]
          },
          "metadata": {},
          "execution_count": 13
        },
        {
          "output_type": "display_data",
          "data": {
            "image/png": "[encoded data removed]",
            "text/plain": [
              "<Figure size 720x720 with 2 Axes>"
            ]
          },
          "metadata": {
            "needs_background": "light"
          }
        }
      ]
    },
    {
      "cell_type": "markdown",
      "metadata": {
        "id": "zh8nq2LESx_k"
      },
      "source": [
        "##Grafico pastel"
      ]
    },
    {
      "cell_type": "code",
      "metadata": {
        "colab": {
          "base_uri": "https://localhost:8080/",
          "height": 299
        },
        "id": "NUOR3P-_Sx_k",
        "outputId": "7e94eb99-9804-414a-8e64-e404ef95be46"
      },
      "source": [
        "datos = df_customers.term_deposit.value_counts(normalize=True)\n",
        "colors = sns.color_palette('inferno')[0:5]\n",
        "print(datos)\n",
        "plt.pie(datos, labels=[\"No\",\"Yes\"], autopct=\"%0.1f %%\",colors = colors)\n",
        "plt.show()"
      ],
      "execution_count": 18,
      "outputs": [
        {
          "output_type": "stream",
          "name": "stdout",
          "text": [
            "no     0.907104\n",
            "yes    0.092896\n",
            "Name: term_deposit, dtype: float64\n"
          ]
        },
        {
          "output_type": "display_data",
          "data": {
            "image/png": "[encoded data removed]",
            "text/plain": [
              "<Figure size 432x288 with 1 Axes>"
            ]
          },
          "metadata": {}
        }
      ]
    },
    {
      "cell_type": "markdown",
      "metadata": {
        "id": "1OkcE-VlSx_l"
      },
      "source": [
        "## Tratamiento de la informacion"
      ]
    },
    {
      "cell_type": "markdown",
      "metadata": {
        "id": "UoD_tL4JSx_l"
      },
      "source": [
        "##Conversion de datos categoricos a numericos"
      ]
    },
    {
      "cell_type": "code",
      "metadata": {
        "colab": {
          "base_uri": "https://localhost:8080/"
        },
        "id": "nb-36B8uSx_l",
        "outputId": "ae526682-0479-43d9-b574-6efe4729c6ee"
      },
      "source": [
        "df_customers['contact'].value_counts()"
      ],
      "execution_count": 29,
      "outputs": [
        {
          "output_type": "execute_result",
          "data": {
            "text/plain": [
              "0    27218\n",
              "2    12776\n",
              "1     2645\n",
              "Name: contact, dtype: int64"
            ]
          },
          "metadata": {},
          "execution_count": 29
        }
      ]
    },
    {
      "cell_type": "code",
      "metadata": {
        "id": "4SphE-QtSx_l"
      },
      "source": [
        "from sklearn import preprocessing\n",
        "label_encoder = preprocessing.LabelEncoder()\n",
        "df_customers['job'] = label_encoder.fit_transform(df_customers['job']).astype('int64')\n",
        "df_customers['marital'] = label_encoder.fit_transform(df_customers['marital']).astype('int64')\n",
        "df_customers['education'] = label_encoder.fit_transform(df_customers['education']).astype('int64')\n",
        "df_customers['default'] = label_encoder.fit_transform(df_customers['default']).astype('int64')\n",
        "df_customers['housing'] = label_encoder.fit_transform(df_customers['housing']).astype('int64')\n",
        "df_customers['loan'] = label_encoder.fit_transform(df_customers['loan']).astype('int64')\n",
        "df_customers['contact'] = label_encoder.fit_transform(df_customers['contact']).astype('int64')\n",
        "df_customers['poutcome'] = label_encoder.fit_transform(df_customers['poutcome']).astype('int64')\n",
        "df_customers['term_deposit'] = label_encoder.fit_transform(df_customers['term_deposit']).astype('int64')"
      ],
      "execution_count": 30,
      "outputs": []
    },
    {
      "cell_type": "code",
      "metadata": {
        "colab": {
          "base_uri": "https://localhost:8080/"
        },
        "id": "DqwgaZ-FSx_m",
        "outputId": "13f56851-51b4-437f-ae98-c8f4a3b62d8b"
      },
      "source": [
        "values = {\"month\": {'jan':1,'feb':2,'mar':3,'apr':4,'may':5,'jun':6,'jul':7,\n",
        "'aug':8,'sep':9,'oct':10,'nov':11,'dec':12}}\n",
        "df_customers['month'].value_counts()"
      ],
      "execution_count": 35,
      "outputs": [
        {
          "output_type": "execute_result",
          "data": {
            "text/plain": [
              "5     13532\n",
              "7      6587\n",
              "8      5987\n",
              "6      5128\n",
              "11     3895\n",
              "4      2718\n",
              "2      2296\n",
              "1      1224\n",
              "10      518\n",
              "9       282\n",
              "3       258\n",
              "12      214\n",
              "Name: month, dtype: int64"
            ]
          },
          "metadata": {},
          "execution_count": 35
        }
      ]
    },
    {
      "cell_type": "code",
      "metadata": {
        "colab": {
          "base_uri": "https://localhost:8080/"
        },
        "id": "SVaTPeutSx_m",
        "outputId": "9fc76470-77dd-429e-c027-5fb28fce54e1"
      },
      "source": [
        "df_customers.info()"
      ],
      "execution_count": 36,
      "outputs": [
        {
          "output_type": "stream",
          "name": "stdout",
          "text": [
            "<class 'pandas.core.frame.DataFrame'>\n",
            "RangeIndex: 42639 entries, 0 to 42638\n",
            "Data columns (total 17 columns):\n",
            " #   Column        Non-Null Count  Dtype\n",
            "---  ------        --------------  -----\n",
            " 0   age           42639 non-null  int64\n",
            " 1   job           42639 non-null  int64\n",
            " 2   marital       42639 non-null  int64\n",
            " 3   education     42639 non-null  int64\n",
            " 4   default       42639 non-null  int64\n",
            " 5   balance       42639 non-null  int64\n",
            " 6   housing       42639 non-null  int64\n",
            " 7   loan          42639 non-null  int64\n",
            " 8   contact       42639 non-null  int64\n",
            " 9   day           42639 non-null  int64\n",
            " 10  month         42639 non-null  int64\n",
            " 11  duration      42639 non-null  int64\n",
            " 12  campaign      42639 non-null  int64\n",
            " 13  pdays         42639 non-null  int64\n",
            " 14  previous      42639 non-null  int64\n",
            " 15  poutcome      42639 non-null  int64\n",
            " 16  term_deposit  42639 non-null  int64\n",
            "dtypes: int64(17)\n",
            "memory usage: 5.5 MB\n"
          ]
        }
      ]
    },
    {
      "cell_type": "code",
      "metadata": {
        "id": "vnVdRtbhSx_n"
      },
      "source": [
        "df_customers = df_customers.drop(columns = ['duration'])"
      ],
      "execution_count": 37,
      "outputs": []
    },
    {
      "cell_type": "code",
      "metadata": {
        "id": "JrtSoPi3Sx_n"
      },
      "source": [
        "from sklearn.model_selection import train_test_split\n",
        "x = df_customers.drop(columns=['term_deposit'])\n",
        "y = df_customers['term_deposit']\n",
        "\n",
        "x_train, x_test, y_train, y_test = train_test_split(x,y,test_size=0.2,random_state=0)"
      ],
      "execution_count": 38,
      "outputs": []
    },
    {
      "cell_type": "markdown",
      "metadata": {
        "id": "FPgXrvTvSx_n"
      },
      "source": [
        "## Regresion Logistica"
      ]
    },
    {
      "cell_type": "code",
      "metadata": {
        "id": "MhPtxaW3Sx_o"
      },
      "source": [
        "from sklearn.linear_model import LogisticRegression\n",
        "logRegr = LogisticRegression()"
      ],
      "execution_count": 39,
      "outputs": []
    },
    {
      "cell_type": "code",
      "metadata": {
        "colab": {
          "base_uri": "https://localhost:8080/"
        },
        "id": "XdWbyqe6Sx_o",
        "outputId": "2116f075-7789-4657-c123-eceb7bbfa397"
      },
      "source": [
        "from sklearn.metrics import accuracy_score\n",
        "logRegr.fit(x_train,y_train)\n",
        "y_pred = logRegr.predict(x_test)\n",
        "logRegr_score = logRegr.score(x_train,y_train).round(4)\n",
        "logRegr_accu = accuracy_score(y_test,y_pred).round(4)\n",
        "print(\"Model score: \", logRegr_score)\n",
        "print(\"Accuracy score: \", logRegr_accu)"
      ],
      "execution_count": 40,
      "outputs": [
        {
          "output_type": "stream",
          "name": "stdout",
          "text": [
            "Model score:  0.907\n",
            "Accuracy score:  0.9068\n"
          ]
        },
        {
          "output_type": "stream",
          "name": "stderr",
          "text": [
            "/usr/local/lib/python3.7/dist-packages/sklearn/linear_model/_logistic.py:940: ConvergenceWarning: lbfgs failed to converge (status=1):\n",
            "STOP: TOTAL NO. of ITERATIONS REACHED LIMIT.\n",
            "\n",
            "Increase the number of iterations (max_iter) or scale the data as shown in:\n",
            "    https://scikit-learn.org/stable/modules/preprocessing.html\n",
            "Please also refer to the documentation for alternative solver options:\n",
            "    https://scikit-learn.org/stable/modules/linear_model.html#logistic-regression\n",
            "  extra_warning_msg=_LOGISTIC_SOLVER_CONVERGENCE_MSG)\n"
          ]
        }
      ]
    },
    {
      "cell_type": "code",
      "metadata": {
        "colab": {
          "base_uri": "https://localhost:8080/",
          "height": 316
        },
        "id": "Cy-DNHXPSx_o",
        "outputId": "8d0df4cf-fff6-48e2-cf72-ec1dac1ed352"
      },
      "source": [
        "from sklearn.metrics import confusion_matrix\n",
        "conf_mtrx = confusion_matrix(y_test,y_pred)\n",
        "print(conf_mtrx)\n",
        "\n",
        "group_names = ['True Neg', 'False Pos', 'False Neg','True Pos']\n",
        "group_counts = [\"{0:0.0f}\".format(value) for value in conf_mtrx.flatten()]\n",
        "group_percentages = [\"{0:.2f}\".format(value) for value in conf_mtrx.flatten()/np.sum(conf_mtrx)]\n",
        "\n",
        "labels = [f\"{v1}\\n{v2}\\n{v3}\" for v1,v2,v3 in zip(group_names,group_counts,group_percentages)]\n",
        "labels = np.asarray(labels).reshape(2,2)\n",
        "\n",
        "class_names = ['Not Potable', 'Potable']\n",
        "dataf = pd.DataFrame(conf_mtrx,index=class_names, columns=class_names)\n",
        "sns.heatmap(dataf,annot=True,fmt='',cmap='Blues')"
      ],
      "execution_count": 41,
      "outputs": [
        {
          "output_type": "stream",
          "name": "stdout",
          "text": [
            "[[7733    1]\n",
            " [ 794    0]]\n"
          ]
        },
        {
          "output_type": "execute_result",
          "data": {
            "text/plain": [
              "<matplotlib.axes._subplots.AxesSubplot at 0x7fceea5b0110>"
            ]
          },
          "metadata": {},
          "execution_count": 41
        },
        {
          "output_type": "display_data",
          "data": {
            "image/png": "[encoded data removed]",
            "text/plain": [
              "<Figure size 432x288 with 2 Axes>"
            ]
          },
          "metadata": {
            "needs_background": "light"
          }
        }
      ]
    },
    {
      "cell_type": "markdown",
      "metadata": {
        "id": "tRndm8E6Sx_o"
      },
      "source": [
        "## Arbol de decision"
      ]
    },
    {
      "cell_type": "code",
      "metadata": {
        "colab": {
          "base_uri": "https://localhost:8080/"
        },
        "id": "Vb4Smg7ISx_p",
        "outputId": "3d22a613-b608-41bc-cd0c-6a2b8f039028"
      },
      "source": [
        "from sklearn.tree import DecisionTreeClassifier\n",
        "tree = DecisionTreeClassifier(max_depth = 9)\n",
        "tree.fit(x_train,y_train)\n",
        "y_pred = tree.predict(x_test)\n",
        "tree_score = tree.score(x_train,y_train).round(4)\n",
        "tree_accu = accuracy_score(y_test,y_pred).round(4)\n",
        "print(\"Decision Tree Model Precission\",tree_score)\n",
        "print(\"Accuracy score: \", tree_accu)"
      ],
      "execution_count": 42,
      "outputs": [
        {
          "output_type": "stream",
          "name": "stdout",
          "text": [
            "Decision Tree Model Precission 0.9157\n",
            "Accuracy score:  0.9097\n"
          ]
        }
      ]
    },
    {
      "cell_type": "markdown",
      "metadata": {
        "id": "HANolGdwSx_p"
      },
      "source": [
        "Analisis de profundidad del modelo, para saber cual es la mejor profundidad a utilizar"
      ]
    },
    {
      "cell_type": "code",
      "metadata": {
        "id": "suTvJnHcSx_p"
      },
      "source": [
        "depth_list = list(range(1,20))\n",
        "\n",
        "accuracy_list=[]\n",
        "for depth in depth_list:\n",
        "  tree = DecisionTreeClassifier(max_depth=depth,random_state=0)\n",
        "  tree.fit(x_train,y_train)\n",
        "  score= tree.score(x_test,y_test)\n",
        "  accuracy_list.append(score)"
      ],
      "execution_count": 44,
      "outputs": []
    },
    {
      "cell_type": "markdown",
      "metadata": {
        "id": "W2Rf12_ySx_p"
      },
      "source": [
        "A continuacion podemos ver que valores de profundidad del arbol nos da una mejor precision de entrenamiento en el modelo."
      ]
    },
    {
      "cell_type": "code",
      "metadata": {
        "colab": {
          "base_uri": "https://localhost:8080/",
          "height": 351
        },
        "id": "ysBZuqPISx_p",
        "outputId": "95b4fa2f-8e9b-4d2f-f3af-b92c019c4f84"
      },
      "source": [
        "plt.subplots(figsize=(10, 5))\n",
        "plt.plot(depth_list, accuracy_list)\n",
        "plt.ylabel('accuracy')\n",
        "plt.xlabel('depth')\n",
        "plt.grid(True)\n",
        "plt.show"
      ],
      "execution_count": 45,
      "outputs": [
        {
          "output_type": "execute_result",
          "data": {
            "text/plain": [
              "<function matplotlib.pyplot.show>"
            ]
          },
          "metadata": {},
          "execution_count": 45
        },
        {
          "output_type": "display_data",
          "data": {
            "image/png": "[encoded data removed]",
            "text/plain": [
              "<Figure size 720x360 with 1 Axes>"
            ]
          },
          "metadata": {
            "needs_background": "light"
          }
        }
      ]
    },
    {
      "cell_type": "markdown",
      "metadata": {
        "id": "ol0bWA9fSx_p"
      },
      "source": [
        "## Support Vector Machine"
      ]
    },
    {
      "cell_type": "code",
      "metadata": {
        "colab": {
          "base_uri": "https://localhost:8080/"
        },
        "id": "8E9qy_y5Sx_p",
        "outputId": "9f50316d-95ff-45bc-c813-784f9498744a"
      },
      "source": [
        "from sklearn.svm import SVC\n",
        "svc_model = SVC()\n",
        "svc_model.fit(x_train,y_train)\n",
        "y_pred = svc_model.predict(x_test)\n",
        "svc_score = svc_model.score(x_train,y_train).round(4)\n",
        "svc_accu = accuracy_score(y_test,y_pred).round(4)\n",
        "print(\"SVC Model Precission\",svc_score)\n",
        "print(\"Accuracy score: \", svc_accu)"
      ],
      "execution_count": 46,
      "outputs": [
        {
          "output_type": "stream",
          "name": "stdout",
          "text": [
            "SVC Model Precission 0.9072\n",
            "Accuracy score:  0.9069\n"
          ]
        }
      ]
    },
    {
      "cell_type": "markdown",
      "metadata": {
        "id": "OrfKKxW3Sx_q"
      },
      "source": [
        "## KNN Neighbors Classifier"
      ]
    },
    {
      "cell_type": "code",
      "metadata": {
        "colab": {
          "base_uri": "https://localhost:8080/"
        },
        "id": "L9rZGjJfSx_q",
        "outputId": "ce247f7d-9ff0-48ff-db9c-aa8c1cc0e815"
      },
      "source": [
        "from sklearn.neighbors import KNeighborsClassifier\n",
        "knn_model = KNeighborsClassifier(n_neighbors=5)\n",
        "knn_model.fit(x_train,y_train)\n",
        "y_pred = knn_model.predict(x_test)\n",
        "knn_score = knn_model.score(x_train,y_train).round(4)\n",
        "knn_accu = accuracy_score(y_test,y_pred).round(4)\n",
        "print(\"KNN Model Precission\",knn_score)\n",
        "print(\"Accuracy score: \", knn_accu)"
      ],
      "execution_count": 47,
      "outputs": [
        {
          "output_type": "stream",
          "name": "stdout",
          "text": [
            "KNN Model Precission 0.9122\n",
            "Accuracy score:  0.9008\n"
          ]
        }
      ]
    },
    {
      "cell_type": "code",
      "metadata": {
        "id": "KwwGeQgESx_q"
      },
      "source": [
        "num_neigh = list(range(1,10))\n",
        "\n",
        "score_list=[]\n",
        "accuracy_list=[]\n",
        "\n",
        "for neighbs in num_neigh:\n",
        "  neigh = KNeighborsClassifier(n_neighbors=neighbs)\n",
        "  neigh.fit(x_train,y_train)\n",
        "  score= neigh.score(x_train,y_train)\n",
        "  y_pred = neigh.predict(x_test)\n",
        "  accuracy= accuracy_score(y_test,y_pred)\n",
        "  score_list.append(score)\n",
        "  accuracy_list.append(accuracy)"
      ],
      "execution_count": 48,
      "outputs": []
    },
    {
      "cell_type": "code",
      "metadata": {
        "colab": {
          "base_uri": "https://localhost:8080/",
          "height": 351
        },
        "id": "3yyaxQ7qSx_q",
        "outputId": "0bc4bbc3-b67f-4a72-8897-32561a9adc98"
      },
      "source": [
        "plt.subplots(figsize=(10, 5))\n",
        "plt.plot(num_neigh, score_list,marker = 'o')\n",
        "plt.plot(num_neigh, accuracy_list,marker = 'o')\n",
        "plt.xlabel('number of neighbors')\n",
        "plt.legend(['Score', 'Accuracy'])\n",
        "plt.grid(True)\n",
        "plt.show"
      ],
      "execution_count": 49,
      "outputs": [
        {
          "output_type": "execute_result",
          "data": {
            "text/plain": [
              "<function matplotlib.pyplot.show>"
            ]
          },
          "metadata": {},
          "execution_count": 49
        },
        {
          "output_type": "display_data",
          "data": {
            "image/png": "[encoded data removed]",
            "text/plain": [
              "<Figure size 720x360 with 1 Axes>"
            ]
          },
          "metadata": {
            "needs_background": "light"
          }
        }
      ]
    },
    {
      "cell_type": "markdown",
      "metadata": {
        "id": "myeVLhXjSx_q"
      },
      "source": [
        "## RESULTADOS COMPARATIVA MODELOS"
      ]
    },
    {
      "cell_type": "code",
      "metadata": {
        "colab": {
          "base_uri": "https://localhost:8080/",
          "height": 173
        },
        "id": "BYNkttBKSx_q",
        "outputId": "fef92f23-a2ed-4285-c580-19b28857c480"
      },
      "source": [
        "models = pd.DataFrame({\n",
        "    'Model': ['Logistic Regression', 'Decision Tree', 'Support Vector Machine', 'KNN'],\n",
        "    'Score': [logRegr_score, tree_score, svc_score, knn_score],\n",
        "    'Accuracy': [logRegr_accu, tree_accu, svc_accu, knn_accu]\n",
        "})\n",
        "models.sort_values(by='Score', ascending=False)\n"
      ],
      "execution_count": 50,
      "outputs": [
        {
          "output_type": "execute_result",
          "data": {
            "text/html": [
              "<div>\n",
              "<style scoped>\n",
              "    .dataframe tbody tr th:only-of-type {\n",
              "        vertical-align: middle;\n",
              "    }\n",
              "\n",
              "    .dataframe tbody tr th {\n",
              "        vertical-align: top;\n",
              "    }\n",
              "\n",
              "    .dataframe thead th {\n",
              "        text-align: right;\n",
              "    }\n",
              "</style>\n",
              "<table border=\"1\" class=\"dataframe\">\n",
              "  <thead>\n",
              "    <tr style=\"text-align: right;\">\n",
              "      <th></th>\n",
              "      <th>Model</th>\n",
              "      <th>Score</th>\n",
              "      <th>Accuracy</th>\n",
              "    </tr>\n",
              "  </thead>\n",
              "  <tbody>\n",
              "    <tr>\n",
              "      <th>1</th>\n",
              "      <td>Decision Tree</td>\n",
              "      <td>0.9157</td>\n",
              "      <td>0.9097</td>\n",
              "    </tr>\n",
              "    <tr>\n",
              "      <th>3</th>\n",
              "      <td>KNN</td>\n",
              "      <td>0.9122</td>\n",
              "      <td>0.9008</td>\n",
              "    </tr>\n",
              "    <tr>\n",
              "      <th>2</th>\n",
              "      <td>Support Vector Machine</td>\n",
              "      <td>0.9072</td>\n",
              "      <td>0.9069</td>\n",
              "    </tr>\n",
              "    <tr>\n",
              "      <th>0</th>\n",
              "      <td>Logistic Regression</td>\n",
              "      <td>0.9070</td>\n",
              "      <td>0.9068</td>\n",
              "    </tr>\n",
              "  </tbody>\n",
              "</table>\n",
              "</div>"
            ],
            "text/plain": [
              "                    Model   Score  Accuracy\n",
              "1           Decision Tree  0.9157    0.9097\n",
              "3                     KNN  0.9122    0.9008\n",
              "2  Support Vector Machine  0.9072    0.9069\n",
              "0     Logistic Regression  0.9070    0.9068"
            ]
          },
          "metadata": {},
          "execution_count": 50
        }
      ]
    },
    {
      "cell_type": "markdown",
      "metadata": {
        "id": "jewB6zORlk0J"
      },
      "source": [
        "#Conclusion"
      ]
    },
    {
      "cell_type": "markdown",
      "metadata": {
        "id": "RY9a7EUPSx_r"
      },
      "source": [
        "El modelo que mejor se adapta es el Arbol de decision ya que su ajuste es superior a los otros modelos"
      ]
    }
  ]
}