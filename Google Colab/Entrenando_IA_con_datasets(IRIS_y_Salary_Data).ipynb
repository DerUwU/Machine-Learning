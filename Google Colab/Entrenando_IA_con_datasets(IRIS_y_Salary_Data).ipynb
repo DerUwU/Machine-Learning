{
  "nbformat": 4,
  "nbformat_minor": 0,
  "metadata": {
    "colab": {
      "name": "Entrenando_IA_con_datasets(IRIS y Salary_Data).ipynb",
      "provenance": []
    },
    "kernelspec": {
      "name": "python3",
      "display_name": "Python 3"
    },
    "language_info": {
      "name": "python"
    }
  },
  "cells": [
    {
      "cell_type": "markdown",
      "metadata": {
        "id": "LlnQ--XzWaMS"
      },
      "source": [
        "#Ejercicio datasets IRIS"
      ]
    },
    {
      "cell_type": "markdown",
      "metadata": {
        "id": "_ANtnZADWfiL"
      },
      "source": [
        "##Importando librerias y dataset"
      ]
    },
    {
      "cell_type": "code",
      "metadata": {
        "id": "cAaZJ7hNSuBK"
      },
      "source": [
        "import numpy as np\n",
        "import pandas as pd\n",
        "\n",
        "from sklearn.datasets import load_iris                  #dataset sobre la flor iris (uso libre)\n",
        "from sklearn.model_selection import train_test_split    #clase para dividir dataset (train y test)\n",
        "from sklearn.tree import DecisionTreeClassifier         #clase que permite implementar un arbol de desición\n",
        "import matplotlib.pyplot as plt                         #libreria para generar graficos\n",
        "import seaborn as sns           #interfaz de alto nivel para dibujar gráficos estadísticos (basada en matplotlib)\n",
        "from sklearn import datasets\n",
        "from sklearn.model_selection import train_test_split\n",
        "from sklearn.preprocessing import StandardScaler\n",
        "\n",
        "from sklearn.metrics import classification_report,confusion_matrix,accuracy_score,mean_squared_error"
      ],
      "execution_count": null,
      "outputs": []
    },
    {
      "cell_type": "markdown",
      "metadata": {
        "id": "bVqBc8VzWm-p"
      },
      "source": [
        "###Cargamos los datos del dataset"
      ]
    },
    {
      "cell_type": "code",
      "metadata": {
        "id": "wSQPOfc3S-fF"
      },
      "source": [
        "db_iris = load_iris()"
      ],
      "execution_count": null,
      "outputs": []
    },
    {
      "cell_type": "code",
      "metadata": {
        "id": "BvZiqACxTAwA"
      },
      "source": [
        "#imprimiento la descripcion del dataset\n",
        "print(db_iris.DESCR)\n",
        "#imprimiento datos del target\n",
        "print(db_iris.target)"
      ],
      "execution_count": null,
      "outputs": []
    },
    {
      "cell_type": "markdown",
      "metadata": {
        "id": "Tluf8AllT4iI"
      },
      "source": [
        "Verificando si hay datos nulos"
      ]
    },
    {
      "cell_type": "code",
      "metadata": {
        "colab": {
          "base_uri": "https://localhost:8080/"
        },
        "id": "6UotY_YUT61-",
        "outputId": "3c6a62f2-775e-461c-99a8-06436839958a"
      },
      "source": [
        "df_iris.isna().sum()"
      ],
      "execution_count": null,
      "outputs": [
        {
          "output_type": "execute_result",
          "data": {
            "text/plain": [
              "sepal length (cm)    0\n",
              "sepal width (cm)     0\n",
              "petal length (cm)    0\n",
              "petal width (cm)     0\n",
              "target               0\n",
              "dtype: int64"
            ]
          },
          "metadata": {},
          "execution_count": 9
        }
      ]
    },
    {
      "cell_type": "markdown",
      "metadata": {
        "id": "-b4T34KxTJHc"
      },
      "source": [
        "###Convirtiendo el dataset en un dataframe"
      ]
    },
    {
      "cell_type": "code",
      "metadata": {
        "colab": {
          "base_uri": "https://localhost:8080/",
          "height": 204
        },
        "id": "T-SfPcE5TFSu",
        "outputId": "6fff7905-5d66-4556-e057-1f750e9b9cf3"
      },
      "source": [
        "df_iris = pd.DataFrame(db_iris.data, columns=db_iris.feature_names)\n",
        "df_iris['target'] = db_iris.target\n",
        "df_iris.head()"
      ],
      "execution_count": null,
      "outputs": [
        {
          "output_type": "execute_result",
          "data": {
            "text/html": [
              "<div>\n",
              "<style scoped>\n",
              "    .dataframe tbody tr th:only-of-type {\n",
              "        vertical-align: middle;\n",
              "    }\n",
              "\n",
              "    .dataframe tbody tr th {\n",
              "        vertical-align: top;\n",
              "    }\n",
              "\n",
              "    .dataframe thead th {\n",
              "        text-align: right;\n",
              "    }\n",
              "</style>\n",
              "<table border=\"1\" class=\"dataframe\">\n",
              "  <thead>\n",
              "    <tr style=\"text-align: right;\">\n",
              "      <th></th>\n",
              "      <th>sepal length (cm)</th>\n",
              "      <th>sepal width (cm)</th>\n",
              "      <th>petal length (cm)</th>\n",
              "      <th>petal width (cm)</th>\n",
              "      <th>target</th>\n",
              "    </tr>\n",
              "  </thead>\n",
              "  <tbody>\n",
              "    <tr>\n",
              "      <th>0</th>\n",
              "      <td>5.1</td>\n",
              "      <td>3.5</td>\n",
              "      <td>1.4</td>\n",
              "      <td>0.2</td>\n",
              "      <td>0</td>\n",
              "    </tr>\n",
              "    <tr>\n",
              "      <th>1</th>\n",
              "      <td>4.9</td>\n",
              "      <td>3.0</td>\n",
              "      <td>1.4</td>\n",
              "      <td>0.2</td>\n",
              "      <td>0</td>\n",
              "    </tr>\n",
              "    <tr>\n",
              "      <th>2</th>\n",
              "      <td>4.7</td>\n",
              "      <td>3.2</td>\n",
              "      <td>1.3</td>\n",
              "      <td>0.2</td>\n",
              "      <td>0</td>\n",
              "    </tr>\n",
              "    <tr>\n",
              "      <th>3</th>\n",
              "      <td>4.6</td>\n",
              "      <td>3.1</td>\n",
              "      <td>1.5</td>\n",
              "      <td>0.2</td>\n",
              "      <td>0</td>\n",
              "    </tr>\n",
              "    <tr>\n",
              "      <th>4</th>\n",
              "      <td>5.0</td>\n",
              "      <td>3.6</td>\n",
              "      <td>1.4</td>\n",
              "      <td>0.2</td>\n",
              "      <td>0</td>\n",
              "    </tr>\n",
              "  </tbody>\n",
              "</table>\n",
              "</div>"
            ],
            "text/plain": [
              "   sepal length (cm)  sepal width (cm)  ...  petal width (cm)  target\n",
              "0                5.1               3.5  ...               0.2       0\n",
              "1                4.9               3.0  ...               0.2       0\n",
              "2                4.7               3.2  ...               0.2       0\n",
              "3                4.6               3.1  ...               0.2       0\n",
              "4                5.0               3.6  ...               0.2       0\n",
              "\n",
              "[5 rows x 5 columns]"
            ]
          },
          "metadata": {},
          "execution_count": 5
        }
      ]
    },
    {
      "cell_type": "markdown",
      "metadata": {
        "id": "ouDIzwqQTMip"
      },
      "source": [
        "###Generando el arbol y entrenando"
      ]
    },
    {
      "cell_type": "markdown",
      "metadata": {
        "id": "mAR0ObDJUQPr"
      },
      "source": [
        "Instanciamos el arbol"
      ]
    },
    {
      "cell_type": "code",
      "metadata": {
        "id": "87RVeD2yTdRP"
      },
      "source": [
        "arbol = DecisionTreeClassifier()"
      ],
      "execution_count": null,
      "outputs": []
    },
    {
      "cell_type": "markdown",
      "metadata": {
        "id": "L3ZYtrOUUYn6"
      },
      "source": [
        "Dividimos los datos(Train y test)"
      ]
    },
    {
      "cell_type": "code",
      "metadata": {
        "id": "GZlHyxASTKug"
      },
      "source": [
        "#dividiremos el dataset en  70% (train) y 30% (test)\n",
        "x_train, x_test, y_train, y_test = train_test_split(df_iris[db_iris.feature_names], df_iris['target'],test_size=0.3, random_state=0)"
      ],
      "execution_count": null,
      "outputs": []
    },
    {
      "cell_type": "markdown",
      "metadata": {
        "id": "H-zIXJT0Uc6F"
      },
      "source": [
        "Entrenamos"
      ]
    },
    {
      "cell_type": "code",
      "metadata": {
        "colab": {
          "base_uri": "https://localhost:8080/"
        },
        "id": "lSBv6KY5UeNN",
        "outputId": "03c76e38-6efc-4b6c-a00d-fbe12ecd75ed"
      },
      "source": [
        "arbol.fit(x_train, y_train)"
      ],
      "execution_count": null,
      "outputs": [
        {
          "output_type": "execute_result",
          "data": {
            "text/plain": [
              "DecisionTreeClassifier(ccp_alpha=0.0, class_weight=None, criterion='gini',\n",
              "                       max_depth=None, max_features=None, max_leaf_nodes=None,\n",
              "                       min_impurity_decrease=0.0, min_impurity_split=None,\n",
              "                       min_samples_leaf=1, min_samples_split=2,\n",
              "                       min_weight_fraction_leaf=0.0, presort='deprecated',\n",
              "                       random_state=None, splitter='best')"
            ]
          },
          "metadata": {},
          "execution_count": 27
        }
      ]
    },
    {
      "cell_type": "markdown",
      "metadata": {
        "id": "UQeX2jlbUobC"
      },
      "source": [
        "Graficamos para ver la profundidad optima"
      ]
    },
    {
      "cell_type": "code",
      "metadata": {
        "colab": {
          "base_uri": "https://localhost:8080/",
          "height": 279
        },
        "id": "bJTKPdhHUrGa",
        "outputId": "e5142f13-c3d2-4453-b39a-7cc4081ff9ec"
      },
      "source": [
        "max_depth_lista = list(range(1, 10))\n",
        "# creamos un listado de resultados de exactitud \n",
        "accuracy = []\n",
        "for depth in max_depth_lista:\n",
        "    arbol_clasi = DecisionTreeClassifier(max_depth = depth, random_state = 0)\n",
        "    arbol_clasi.fit(x_train, y_train)\n",
        "    score = arbol_clasi.score(x_test, y_test)\n",
        "    accuracy.append(score)\n",
        "\n",
        "# Graficamos los resultados \n",
        "\n",
        "plt.plot(max_depth_lista,accuracy)\n",
        "plt.ylabel('Precision')\n",
        "plt.xlabel('Profundidad')\n",
        "plt.grid(True)\n",
        "plt.show()"
      ],
      "execution_count": null,
      "outputs": [
        {
          "output_type": "display_data",
          "data": {
            "image/png": "[encoded data removed]",
            "text/plain": [
              "<Figure size 432x288 with 1 Axes>"
            ]
          },
          "metadata": {
            "needs_background": "light"
          }
        }
      ]
    },
    {
      "cell_type": "markdown",
      "metadata": {
        "id": "aHGyrUHjUwBq"
      },
      "source": [
        "Precicion "
      ]
    },
    {
      "cell_type": "code",
      "metadata": {
        "colab": {
          "base_uri": "https://localhost:8080/"
        },
        "id": "BYAeFJJrUyup",
        "outputId": "da45b17a-ec28-4dbc-a38a-6daceefd33f2"
      },
      "source": [
        "arbol_clasi = DecisionTreeClassifier(max_depth = 3, random_state = 0)\n",
        "\n",
        "arbol_clasi.fit(x_train, y_train)\n",
        "\n",
        "accuary = arbol_clasi.score(x_test, y_test)\n",
        "#calcular la precisión (accuary) del algoritmo\n",
        "print(\"Precision: \"+str(accuary*100)+\" %\")\n",
        "print(\"Puntaje del entrenamiento: \", arbol_clasi.score(x_train,y_train)*100,\"%\\n\\n\")\n",
        "\n",
        "print(\"\\t\\tDatos recolectados del entrenamiento\\n\")\n",
        "y_pred = arbol_clasi.predict(x_test)\n",
        "print(classification_report(y_test,y_pred))\n",
        "print(confusion_matrix(y_test,y_pred),\"\\n\")\n",
        "\n"
      ],
      "execution_count": null,
      "outputs": [
        {
          "output_type": "stream",
          "name": "stdout",
          "text": [
            "Precision: 97.77777777777777 %\n",
            "Puntaje del entrenamiento:  98.09523809523809 %\n",
            "\n",
            "\n",
            "\t\tDatos recolectados del entrenamiento\n",
            "\n",
            "              precision    recall  f1-score   support\n",
            "\n",
            "           0       1.00      1.00      1.00        16\n",
            "           1       1.00      0.94      0.97        18\n",
            "           2       0.92      1.00      0.96        11\n",
            "\n",
            "    accuracy                           0.98        45\n",
            "   macro avg       0.97      0.98      0.98        45\n",
            "weighted avg       0.98      0.98      0.98        45\n",
            "\n",
            "[[16  0  0]\n",
            " [ 0 17  1]\n",
            " [ 0  0 11]] \n",
            "\n"
          ]
        }
      ]
    },
    {
      "cell_type": "markdown",
      "metadata": {
        "id": "jDPhxLooWEhS"
      },
      "source": [
        "Generando el arbol"
      ]
    },
    {
      "cell_type": "code",
      "metadata": {
        "colab": {
          "base_uri": "https://localhost:8080/"
        },
        "id": "2F3RwFEWVvkf",
        "outputId": "95dc7a6a-454d-4310-a4e6-4f8be97069b4"
      },
      "source": [
        "#para graficar  Iris-Setosa (0), - Iris-Versicolour (1), - Iris-Virginica (2)\n",
        "class_names_list=list(['setosa','versicolor','virginica'])\n",
        "from sklearn.tree import export_graphviz\n",
        "from pydotplus import graph_from_dot_data\n",
        "dot_data = export_graphviz(arbol_clasi,feature_names=db_iris.feature_names, class_names=class_names_list)\n",
        "graph = graph_from_dot_data(dot_data)\n",
        "graph.write_png('tree_iris.png')"
      ],
      "execution_count": null,
      "outputs": [
        {
          "output_type": "execute_result",
          "data": {
            "text/plain": [
              "True"
            ]
          },
          "metadata": {},
          "execution_count": 30
        }
      ]
    },
    {
      "cell_type": "markdown",
      "metadata": {
        "id": "cuCp7kZMy4oL"
      },
      "source": [
        "Como conclusion use el metodo de arboles de decicion ya que probe con linal y logistica y con este metodo fue el que pude obtener un porcentaje mayor del 97% es decir que la IA es optima y no esta sobre cargada"
      ]
    },
    {
      "cell_type": "markdown",
      "metadata": {
        "id": "-xRAvVB7XkFn"
      },
      "source": [
        "#Ejercicio dataset Salary_Data"
      ]
    },
    {
      "cell_type": "code",
      "metadata": {
        "id": "BPxm0NAIy087"
      },
      "source": [
        "import numpy as np              #Mejora el soporte para vectores y matrices\n",
        "import pandas as pd             #Estructura de datos (Ciencia de datos)\n",
        "\n",
        "import matplotlib.pyplot as plt #Para graficar\n",
        "import seaborn as sns           #interfaz de alto nivel para dibujar gráficos estadísticos (basada en matplotlib)\n",
        "from sklearn.model_selection import train_test_split\n",
        "from sklearn.linear_model import LinearRegression\n",
        "from sklearn.metrics import mean_squared_error\n",
        "from sklearn.metrics import r2_score\n",
        "from sklearn.preprocessing import StandardScaler"
      ],
      "execution_count": 22,
      "outputs": []
    },
    {
      "cell_type": "code",
      "metadata": {
        "colab": {
          "base_uri": "https://localhost:8080/",
          "height": 204
        },
        "id": "_jDNYk9i0HE1",
        "outputId": "2bc74bd1-9ad8-4ab3-b7c9-cb4bce19b0a0"
      },
      "source": [
        "df = pd.read_csv(\"https://raw.githubusercontent.com/2HenryCardenas1/MachineLearning/main/Datasets/Salary_Data.csv\")\n",
        "df.head(5)\n"
      ],
      "execution_count": 2,
      "outputs": [
        {
          "output_type": "execute_result",
          "data": {
            "text/html": [
              "<div>\n",
              "<style scoped>\n",
              "    .dataframe tbody tr th:only-of-type {\n",
              "        vertical-align: middle;\n",
              "    }\n",
              "\n",
              "    .dataframe tbody tr th {\n",
              "        vertical-align: top;\n",
              "    }\n",
              "\n",
              "    .dataframe thead th {\n",
              "        text-align: right;\n",
              "    }\n",
              "</style>\n",
              "<table border=\"1\" class=\"dataframe\">\n",
              "  <thead>\n",
              "    <tr style=\"text-align: right;\">\n",
              "      <th></th>\n",
              "      <th>YearsExperience</th>\n",
              "      <th>Salary</th>\n",
              "    </tr>\n",
              "  </thead>\n",
              "  <tbody>\n",
              "    <tr>\n",
              "      <th>0</th>\n",
              "      <td>1.1</td>\n",
              "      <td>39343.0</td>\n",
              "    </tr>\n",
              "    <tr>\n",
              "      <th>1</th>\n",
              "      <td>1.3</td>\n",
              "      <td>46205.0</td>\n",
              "    </tr>\n",
              "    <tr>\n",
              "      <th>2</th>\n",
              "      <td>1.5</td>\n",
              "      <td>37731.0</td>\n",
              "    </tr>\n",
              "    <tr>\n",
              "      <th>3</th>\n",
              "      <td>2.0</td>\n",
              "      <td>43525.0</td>\n",
              "    </tr>\n",
              "    <tr>\n",
              "      <th>4</th>\n",
              "      <td>2.2</td>\n",
              "      <td>39891.0</td>\n",
              "    </tr>\n",
              "  </tbody>\n",
              "</table>\n",
              "</div>"
            ],
            "text/plain": [
              "   YearsExperience   Salary\n",
              "0              1.1  39343.0\n",
              "1              1.3  46205.0\n",
              "2              1.5  37731.0\n",
              "3              2.0  43525.0\n",
              "4              2.2  39891.0"
            ]
          },
          "metadata": {},
          "execution_count": 2
        }
      ]
    },
    {
      "cell_type": "code",
      "metadata": {
        "colab": {
          "base_uri": "https://localhost:8080/"
        },
        "id": "N6bES_2o00Pj",
        "outputId": "fc1c0c0a-4c82-4ca5-c052-d8ec2aba527c"
      },
      "source": [
        "df.isnull().sum()"
      ],
      "execution_count": 4,
      "outputs": [
        {
          "output_type": "execute_result",
          "data": {
            "text/plain": [
              "YearsExperience    0\n",
              "Salary             0\n",
              "dtype: int64"
            ]
          },
          "metadata": {},
          "execution_count": 4
        }
      ]
    },
    {
      "cell_type": "markdown",
      "metadata": {
        "id": "FEv1O9zB54GL"
      },
      "source": [
        "##Creando matriz correlacion"
      ]
    },
    {
      "cell_type": "code",
      "metadata": {
        "colab": {
          "base_uri": "https://localhost:8080/",
          "height": 286
        },
        "id": "YVXWakzH0RBC",
        "outputId": "c288e450-4d59-48e2-9a37-9ef1c8a177d8"
      },
      "source": [
        "#función de correlación de pandas (cercano a 1 es la mejor correlación, negativos la peor)\n",
        "correlation_matrix = df.corr().round(2)\n",
        "# annot = True (para imprimir los valores dentro del cuadrado)\n",
        "sns.heatmap(data=correlation_matrix, annot=True)"
      ],
      "execution_count": 3,
      "outputs": [
        {
          "output_type": "execute_result",
          "data": {
            "text/plain": [
              "<matplotlib.axes._subplots.AxesSubplot at 0x7f00b96535d0>"
            ]
          },
          "metadata": {},
          "execution_count": 3
        },
        {
          "output_type": "display_data",
          "data": {
            "image/png": "[encoded data removed]",
            "text/plain": [
              "<Figure size 432x288 with 2 Axes>"
            ]
          },
          "metadata": {
            "needs_background": "light"
          }
        }
      ]
    },
    {
      "cell_type": "markdown",
      "metadata": {
        "id": "jxhhT0BG58o_"
      },
      "source": [
        "##Graficando datos"
      ]
    },
    {
      "cell_type": "code",
      "metadata": {
        "colab": {
          "base_uri": "https://localhost:8080/",
          "height": 391
        },
        "id": "nXKXo0mt0ZYb",
        "outputId": "57c91891-81ac-471e-8d21-be704ea7fd53"
      },
      "source": [
        "sns.pairplot(df)"
      ],
      "execution_count": 5,
      "outputs": [
        {
          "output_type": "execute_result",
          "data": {
            "text/plain": [
              "<seaborn.axisgrid.PairGrid at 0x7f00b101d250>"
            ]
          },
          "metadata": {},
          "execution_count": 5
        },
        {
          "output_type": "display_data",
          "data": {
            "image/png": "[encoded data removed]",
            "text/plain": [
              "<Figure size 360x360 with 6 Axes>"
            ]
          },
          "metadata": {
            "needs_background": "light"
          }
        }
      ]
    },
    {
      "cell_type": "markdown",
      "metadata": {
        "id": "rYKCpcqU5_Gi"
      },
      "source": [
        "##Graficando datos seleccionados"
      ]
    },
    {
      "cell_type": "code",
      "metadata": {
        "colab": {
          "base_uri": "https://localhost:8080/",
          "height": 279
        },
        "id": "EVG1x2Z51Yth",
        "outputId": "05ebf149-bb94-4465-ab1e-02ec035ab51b"
      },
      "source": [
        "X = df['Salary']\n",
        "y = df['YearsExperience']\n",
        "plt.scatter(X,y, s=15, alpha=0.5)\n",
        "plt.xlabel('Salary')\n",
        "plt.ylabel('YearsExperience')\n",
        "plt.show()"
      ],
      "execution_count": 7,
      "outputs": [
        {
          "output_type": "display_data",
          "data": {
            "image/png": "[encoded data removed]",
            "text/plain": [
              "<Figure size 432x288 with 1 Axes>"
            ]
          },
          "metadata": {
            "needs_background": "light"
          }
        }
      ]
    },
    {
      "cell_type": "markdown",
      "metadata": {
        "id": "zCI5JVv_6C3U"
      },
      "source": [
        "##Entrenamiento"
      ]
    },
    {
      "cell_type": "code",
      "metadata": {
        "id": "usHRX50G1241"
      },
      "source": [
        "#entrenando con dos variables en X\n",
        "x = pd.DataFrame(np.c_[df['Salary']], columns = ['Salary'])\n",
        "y = df['YearsExperience']"
      ],
      "execution_count": 13,
      "outputs": []
    },
    {
      "cell_type": "code",
      "metadata": {
        "colab": {
          "base_uri": "https://localhost:8080/"
        },
        "id": "vnwgVt0w2igS",
        "outputId": "25fee837-cacc-4e80-e687-fe87f4ceb62b"
      },
      "source": [
        "X_train, X_test, Y_train, Y_test = train_test_split(x, y, test_size = 0.2, random_state=20)\n",
        "\n",
        "print(\"x80% para entrenamiento: \"+str(X_train.shape) +\", x20% para test:  \"+str(X_test.shape))\n",
        "print(\"y80% para entrenamiento: \"+str(Y_train.shape) +\", y20% para test: \"+str(Y_test.shape))"
      ],
      "execution_count": 15,
      "outputs": [
        {
          "output_type": "stream",
          "name": "stdout",
          "text": [
            "x80% para entrenamiento: (24, 1), x20% para test:  (6, 1)\n",
            "y80% para entrenamiento: (24,), y20% para test: (6,)\n"
          ]
        }
      ]
    },
    {
      "cell_type": "code",
      "metadata": {
        "colab": {
          "base_uri": "https://localhost:8080/"
        },
        "id": "Jm0BOhGC2z-x",
        "outputId": "59540346-4de2-41d5-e5b9-724b848b885e"
      },
      "source": [
        "lin_model = LinearRegression()\n",
        "lin_model.fit(X_train, Y_train)"
      ],
      "execution_count": 17,
      "outputs": [
        {
          "output_type": "execute_result",
          "data": {
            "text/plain": [
              "LinearRegression(copy_X=True, fit_intercept=True, n_jobs=None, normalize=False)"
            ]
          },
          "metadata": {},
          "execution_count": 17
        }
      ]
    },
    {
      "cell_type": "markdown",
      "metadata": {
        "id": "3U4O4TP96IU0"
      },
      "source": [
        "###Graficando los datos una vez entrenado"
      ]
    },
    {
      "cell_type": "code",
      "metadata": {
        "colab": {
          "base_uri": "https://localhost:8080/",
          "height": 346
        },
        "id": "EN_oFk8q3Obr",
        "outputId": "c3cdbc77-4612-4922-f6cf-ec6bdef25c07"
      },
      "source": [
        "# poner a prueba la maquina (modelo)\n",
        "Y_pred = lin_model.predict(X_test)\n",
        "plt.scatter(X_test['Salary'], Y_test)\n",
        "plt.plot(X_test, Y_pred, color='red', linewidth=3)\n",
        "plt.title('Regresión Lineal Simple')\n",
        "#plt.xlabel('Número de habitaciones')\n",
        "plt.xlabel('Salary')\n",
        "plt.ylabel('YearsExperience')\n",
        "plt.show()\n",
        "print('\\n PRESICIÓN DEL MODELO REGRESIÓN LINEAL SIMPLE')\n",
        "print(lin_model.score(X_train, Y_train))"
      ],
      "execution_count": 18,
      "outputs": [
        {
          "output_type": "display_data",
          "data": {
            "image/png": "[encoded data removed]",
            "text/plain": [
              "<Figure size 432x288 with 1 Axes>"
            ]
          },
          "metadata": {
            "needs_background": "light"
          }
        },
        {
          "output_type": "stream",
          "name": "stdout",
          "text": [
            "\n",
            " PRESICIÓN DEL MODELO REGRESIÓN LINEAL SIMPLE\n",
            "0.9568762774706462\n"
          ]
        }
      ]
    },
    {
      "cell_type": "markdown",
      "metadata": {
        "id": "h74Xmd3O6a9W"
      },
      "source": [
        "###Evaluando modelo para test y train"
      ]
    },
    {
      "cell_type": "code",
      "metadata": {
        "colab": {
          "base_uri": "https://localhost:8080/"
        },
        "id": "8UGkoLqq3coG",
        "outputId": "3c1181e7-1e38-46c6-ee0b-a0461288cc4e"
      },
      "source": [
        "# evaluación del modelo para el conjunto de entrenamiento\n",
        "y_train_predict = lin_model.predict(X_train)\n",
        "rmse = (np.sqrt(mean_squared_error(Y_train, y_train_predict)))\n",
        "r2 = r2_score(Y_train, y_train_predict)\n",
        "\n",
        "print(\"El modelo de rendimiento para el conjunto de entrenamiento.\")\n",
        "print(\"--------------------------------------\")\n",
        "print('RMSE es {}'.format(rmse))\n",
        "print('R2 resultado es {}'.format(r2))\n",
        "print(\"\\n\")\n",
        "\n",
        "# model evaluation for testing set\n",
        "y_test_predict = lin_model.predict(X_test)\n",
        "rmse = (np.sqrt(mean_squared_error(Y_test, y_test_predict)))\n",
        "r2 = r2_score(Y_test, y_test_predict)\n",
        "\n",
        "print(\"El rendimiento del modelo para el conjunto de pruebas\")\n",
        "print(\"--------------------------------------\")\n",
        "print('RMSE es {}'.format(rmse))\n",
        "print('R2 resultado es {}'.format(r2))"
      ],
      "execution_count": 20,
      "outputs": [
        {
          "output_type": "stream",
          "name": "stdout",
          "text": [
            "El modelo de rendimiento para el conjunto de entrenamiento.\n",
            "--------------------------------------\n",
            "RMSE es 0.5594991460446694\n",
            "R2 resultado es 0.9568762774706462\n",
            "\n",
            "\n",
            "El rendimiento del modelo para el conjunto de pruebas\n",
            "--------------------------------------\n",
            "RMSE es 0.6616756450434083\n",
            "R2 resultado es 0.9496121236164643\n"
          ]
        }
      ]
    },
    {
      "cell_type": "markdown",
      "metadata": {
        "id": "p-r-YX_56lZ3"
      },
      "source": [
        "##Aplicando la regresion linal"
      ]
    },
    {
      "cell_type": "code",
      "metadata": {
        "id": "WwFH6LIN3u_o"
      },
      "source": [
        "regressor = LinearRegression()\n",
        "#entrenamos\n",
        "regressor.fit(X_train, Y_train)\n",
        "#predecimos\n",
        "pred = regressor.predict(X_test)"
      ],
      "execution_count": 26,
      "outputs": []
    },
    {
      "cell_type": "code",
      "metadata": {
        "colab": {
          "base_uri": "https://localhost:8080/",
          "height": 282
        },
        "id": "NbUzBFFF5Hux",
        "outputId": "8f048240-f55b-48ef-89c3-4e5ba7375917"
      },
      "source": [
        "#visualizar la predicción en los datos de testeo\n",
        "plt.scatter(Y_test, pred)\n",
        "plt.plot([y.min(), y.max()], [y.min(), y.max()], c='r', lw=2)\n",
        "plt.show()\n",
        "print(\"Precisión del modelo: \"+str(regressor.score(X_test, Y_test)))"
      ],
      "execution_count": 29,
      "outputs": [
        {
          "output_type": "display_data",
          "data": {
            "image/png": "[encoded data removed]",
            "text/plain": [
              "<Figure size 432x288 with 1 Axes>"
            ]
          },
          "metadata": {
            "needs_background": "light"
          }
        },
        {
          "output_type": "stream",
          "name": "stdout",
          "text": [
            "Precisión del modelo: 0.9496121236164643\n"
          ]
        }
      ]
    },
    {
      "cell_type": "markdown",
      "metadata": {
        "id": "IWuTGsR86qx2"
      },
      "source": [
        "##Conclusion"
      ]
    },
    {
      "cell_type": "markdown",
      "metadata": {
        "id": "IS5wyGIS5Sqp"
      },
      "source": [
        "Como conclusion use el metodo de regresion lineal ya que una ves graficado podemos observar en la seccion \"Graficando datos\" la grafica el cual nos muestra una clara regresion lineal, y finalizando obtuve una precisiob del modelo del 94% el cual es optimo para una IA"
      ]
    }
  ]
}